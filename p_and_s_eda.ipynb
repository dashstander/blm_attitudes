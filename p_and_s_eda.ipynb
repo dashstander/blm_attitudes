{
 "cells": [
  {
   "cell_type": "code",
   "execution_count": 1,
   "metadata": {},
   "outputs": [],
   "source": [
    "import modin.pandas as pd\n",
    "import os\n",
    "import re\n",
    "import spacy\n",
    "\n",
    "data_dir = '/Users/dashiell/reddit_blm/'\n",
    "#non_leo_patterns = re.compile('Unverified|Not an LEO|Not a\\(n\\) LEO|Not a LEO|NON LEO|Not LEO', flags=re.IGNORECASE)"
   ]
  },
  {
   "cell_type": "code",
   "execution_count": 2,
   "metadata": {},
   "outputs": [
    {
     "data": {
      "text/plain": [
       "['comments_8.csv',\n",
       " 'comments_9.csv',\n",
       " 'comments_11.csv',\n",
       " 'comments_10.csv',\n",
       " 'comments_12.csv',\n",
       " 'comments_13.csv',\n",
       " 'comments_17.csv',\n",
       " 'comments_16.csv',\n",
       " 'comments_14.csv',\n",
       " 'comments_15.csv',\n",
       " 'comments_18.csv',\n",
       " 'comments_24.csv',\n",
       " 'comments_19.csv',\n",
       " 'comments_22.csv',\n",
       " 'comments_23.csv',\n",
       " 'comments_21.csv',\n",
       " 'comments_20.csv',\n",
       " 'comments_4.csv',\n",
       " 'comments_5.csv',\n",
       " 'comments_7.csv',\n",
       " 'comments_6.csv',\n",
       " 'comments_2.csv',\n",
       " 'comments_3.csv',\n",
       " 'comments_1.csv',\n",
       " 'comments_0.csv']"
      ]
     },
     "execution_count": 2,
     "metadata": {},
     "output_type": "execute_result"
    }
   ],
   "source": [
    "os.listdir(data_dir)"
   ]
  },
  {
   "cell_type": "code",
   "execution_count": 3,
   "metadata": {},
   "outputs": [],
   "source": [
    "def load_data():\n",
    "    return pd.concat(\n",
    "        [pd.read_csv(data_dir + fp) for fp in os.listdir(data_dir)]\n",
    "    )\n",
    "\n",
    "def clean_data(data):\n",
    "    #data['non_leo'] = df['author_flair_text'].str.contains(non_leo_patterns)\n",
    "    data_types = {\n",
    "        'author': 'string',\n",
    "        'author_flair_text': 'string',\n",
    "        'author_fullname': 'string',\n",
    "        'body': 'string'\n",
    "    }\n",
    "    data = data.astype(data_types)\n",
    "    data.reset_index(inplace=True)\n",
    "    #data['created_date'] = pd.to_datetime(df['created_utc'], unit='s')\n",
    "    return data"
   ]
  },
  {
   "cell_type": "code",
   "execution_count": 4,
   "metadata": {},
   "outputs": [],
   "source": [
    "df = load_data()\n",
    "df = clean_data(df)"
   ]
  },
  {
   "cell_type": "code",
   "execution_count": 5,
   "metadata": {},
   "outputs": [
    {
     "name": "stdout",
     "output_type": "stream",
     "text": [
      "(6611, 14)\n"
     ]
    },
    {
     "data": {
      "text/html": [
       "<div>\n",
       "<style scoped>\n",
       "    .dataframe tbody tr th:only-of-type {\n",
       "        vertical-align: middle;\n",
       "    }\n",
       "\n",
       "    .dataframe tbody tr th {\n",
       "        vertical-align: top;\n",
       "    }\n",
       "\n",
       "    .dataframe thead th {\n",
       "        text-align: right;\n",
       "    }\n",
       "</style>\n",
       "<table border=\"1\" class=\"dataframe\">\n",
       "  <thead>\n",
       "    <tr style=\"text-align: right;\">\n",
       "      <th></th>\n",
       "      <th>index</th>\n",
       "      <th>author</th>\n",
       "      <th>author_flair_text</th>\n",
       "      <th>author_fullname</th>\n",
       "      <th>body</th>\n",
       "      <th>created</th>\n",
       "      <th>created_utc</th>\n",
       "      <th>id</th>\n",
       "      <th>locked</th>\n",
       "      <th>parent_id</th>\n",
       "      <th>score</th>\n",
       "      <th>stickied</th>\n",
       "      <th>subreddit</th>\n",
       "      <th>subreddit_id</th>\n",
       "    </tr>\n",
       "  </thead>\n",
       "  <tbody>\n",
       "    <tr>\n",
       "      <th>719</th>\n",
       "      <td>719</td>\n",
       "      <td>Lyndell</td>\n",
       "      <td>&lt;NA&gt;</td>\n",
       "      <td>&lt;NA&gt;</td>\n",
       "      <td>Can you clarify \"his people\". You mean his fri...</td>\n",
       "      <td>1.504213e+09</td>\n",
       "      <td>2017-08-31 13:56:56</td>\n",
       "      <td>dmdjxh3</td>\n",
       "      <td>NaN</td>\n",
       "      <td>t1_dmdi5di</td>\n",
       "      <td>12.0</td>\n",
       "      <td>False</td>\n",
       "      <td>news</td>\n",
       "      <td>t5_2qh3l</td>\n",
       "    </tr>\n",
       "    <tr>\n",
       "      <th>1384</th>\n",
       "      <td>1384</td>\n",
       "      <td>Lyndell</td>\n",
       "      <td>&lt;NA&gt;</td>\n",
       "      <td>t2_852pv</td>\n",
       "      <td>It's funny without mentioning the race of his ...</td>\n",
       "      <td>1.496790e+09</td>\n",
       "      <td>2017-06-06 15:56:09</td>\n",
       "      <td>dijb15a</td>\n",
       "      <td>NaN</td>\n",
       "      <td>t3_6fmali</td>\n",
       "      <td>1.0</td>\n",
       "      <td>False</td>\n",
       "      <td>news</td>\n",
       "      <td>t5_2qh3l</td>\n",
       "    </tr>\n",
       "    <tr>\n",
       "      <th>1424</th>\n",
       "      <td>1424</td>\n",
       "      <td>Lyndell</td>\n",
       "      <td>&lt;NA&gt;</td>\n",
       "      <td>t2_852pv</td>\n",
       "      <td>The craziest part of all this is Blue Lives Ma...</td>\n",
       "      <td>1.495690e+09</td>\n",
       "      <td>2017-05-24 22:23:27</td>\n",
       "      <td>di00n30</td>\n",
       "      <td>NaN</td>\n",
       "      <td>t1_dhzu4lq</td>\n",
       "      <td>27.0</td>\n",
       "      <td>False</td>\n",
       "      <td>news</td>\n",
       "      <td>t5_2qh3l</td>\n",
       "    </tr>\n",
       "    <tr>\n",
       "      <th>2085</th>\n",
       "      <td>2085</td>\n",
       "      <td>Lyndell</td>\n",
       "      <td>&lt;NA&gt;</td>\n",
       "      <td>t2_852pv</td>\n",
       "      <td>I mean social anxiety is getting extremely ner...</td>\n",
       "      <td>1.487208e+09</td>\n",
       "      <td>2017-02-15 18:14:56</td>\n",
       "      <td>dds8blo</td>\n",
       "      <td>NaN</td>\n",
       "      <td>t1_dds85br</td>\n",
       "      <td>-14.0</td>\n",
       "      <td>False</td>\n",
       "      <td>news</td>\n",
       "      <td>t5_2qh3l</td>\n",
       "    </tr>\n",
       "    <tr>\n",
       "      <th>2580</th>\n",
       "      <td>2580</td>\n",
       "      <td>Lyndell</td>\n",
       "      <td>&lt;NA&gt;</td>\n",
       "      <td>t2_852pv</td>\n",
       "      <td>No they had charters where people signed their...</td>\n",
       "      <td>1.482442e+09</td>\n",
       "      <td>2016-12-22 14:27:01</td>\n",
       "      <td>dbi76la</td>\n",
       "      <td>NaN</td>\n",
       "      <td>t1_dbi74xi</td>\n",
       "      <td>1.0</td>\n",
       "      <td>False</td>\n",
       "      <td>news</td>\n",
       "      <td>t5_2qh3l</td>\n",
       "    </tr>\n",
       "  </tbody>\n",
       "</table>\n",
       "</div>"
      ],
      "text/plain": [
       "      index   author author_flair_text author_fullname  \\\n",
       "719     719  Lyndell              <NA>            <NA>   \n",
       "1384   1384  Lyndell              <NA>        t2_852pv   \n",
       "1424   1424  Lyndell              <NA>        t2_852pv   \n",
       "2085   2085  Lyndell              <NA>        t2_852pv   \n",
       "2580   2580  Lyndell              <NA>        t2_852pv   \n",
       "\n",
       "                                                   body       created  \\\n",
       "719   Can you clarify \"his people\". You mean his fri...  1.504213e+09   \n",
       "1384  It's funny without mentioning the race of his ...  1.496790e+09   \n",
       "1424  The craziest part of all this is Blue Lives Ma...  1.495690e+09   \n",
       "2085  I mean social anxiety is getting extremely ner...  1.487208e+09   \n",
       "2580  No they had charters where people signed their...  1.482442e+09   \n",
       "\n",
       "              created_utc       id locked   parent_id  score stickied  \\\n",
       "719   2017-08-31 13:56:56  dmdjxh3    NaN  t1_dmdi5di   12.0    False   \n",
       "1384  2017-06-06 15:56:09  dijb15a    NaN   t3_6fmali    1.0    False   \n",
       "1424  2017-05-24 22:23:27  di00n30    NaN  t1_dhzu4lq   27.0    False   \n",
       "2085  2017-02-15 18:14:56  dds8blo    NaN  t1_dds85br  -14.0    False   \n",
       "2580  2016-12-22 14:27:01  dbi76la    NaN  t1_dbi74xi    1.0    False   \n",
       "\n",
       "     subreddit subreddit_id  \n",
       "719       news     t5_2qh3l  \n",
       "1384      news     t5_2qh3l  \n",
       "1424      news     t5_2qh3l  \n",
       "2085      news     t5_2qh3l  \n",
       "2580      news     t5_2qh3l  "
      ]
     },
     "execution_count": 5,
     "metadata": {},
     "output_type": "execute_result"
    }
   ],
   "source": [
    "pattern = re.compile('BlackLivesMatter|Black Lives Matter|BLM', flags=re.IGNORECASE)\n",
    "blm_comments = df.loc[df.body.str.contains(pattern, na=False), :]\n",
    "print(blm_comments.shape)\n",
    "blm_comments.head()"
   ]
  },
  {
   "cell_type": "code",
   "execution_count": 6,
   "metadata": {},
   "outputs": [],
   "source": [
    "def comment_generator():\n",
    "    for i, row in blm_comments.iterrows():\n",
    "        yield row['subreddit'], row['body']\n",
    "\n",
    "def print_row(generator):\n",
    "    sub, body = next(generator)\n",
    "    print(sub)\n",
    "    print(body)\n",
    "\n",
    "comment_gen = comment_generator()"
   ]
  },
  {
   "cell_type": "code",
   "execution_count": 7,
   "metadata": {},
   "outputs": [
    {
     "name": "stdout",
     "output_type": "stream",
     "text": [
      "news\n",
      "Can you clarify \"his people\". You mean his friends? I know BLM wouldn't let him join.\n",
      "news\n",
      "It's funny without mentioning the race of his wife everyone jumps to conclusions that she's black&com; so they can make a black lives matter pun.\n",
      "news\n",
      "The craziest part of all this is Blue Lives Matter. It was started in the year that had the lowest number cops maliciously killed since the 1800s. [more cops died in accidents than by someone killing them on purpose.](https://www.fbi.gov/news/pressrel/press-releases/fbi-releases-2013-statistics-on-law-enforcement-officers-killed-and-assaulted)&nl;&nl;Yet because they are called out for not reporting deaths at the hand of a cop and the number goes from a self reported one of under 400 to over 1000 once we ourselves start keeping track. They feel they need to make that counter campaign to black lives matter (which has its own problems starting with its name). Instead of facing facts and saying we will improve.\n",
      "news\n",
      "I mean social anxiety is getting extremely nervous in public. Maybe that's partly why that one dude who got arrested at that BLM protest did what he did. Social anxiety can cause very bad decisions to be made out of fear&com; and worse yet it's triggered by a large dense amounts of people&com; so maybe not sexual addiction but social anxiety maybe they can't Conceal Carry.\n",
      "news\n",
      "No they had charters where people signed their&com; name they've been caught on tape and in uniform. The only one remotely to do with BLM was Dallas where he condemned BLM for not doing enough.\n",
      "politics\n",
      "That's four articles you linked me allowed not all on the same day&com; and two allowed showing who it was done by. I will agree that the media is making it impossible to have any actual discussions with different points&com; but this isn't new Micheal Moore brought it up in Fahrenheit 9/11. The left was pissed off with the lies of the media and the government&com; they got their man in and largely then choose to ignore the issues with the government right as the right hit its lowest point as far as approval with Bush at the end of the presidency. Then Obama came and that just made everything about race&com; even before he himself made the comments people point to with Trayvon Martin. Because there were racists who didn't like Obama president and a lot of the media became hyper focused on the issue&com; stirring up everything. Things like banning an entire religion are crazy and shouldn't be allowed in the presidency&com; but the corruption of the left and the medias failure to see the limits of their control and amount of distrust built around the issue failed. I media used Black Lives Matter a disorganized hashtag parading as a civil rights movement because of the word *Black* in the title. There have been groups talking about police brutality in inner city communities for decades not until one with a simple name and a race specifically in the title do they choose to talk about it. Then cover some stories so misleading you wonder why they even covered them. It was perfect&com; everyone is focused on hating their fellow man at the bottom while the sharks at the top have their fill. \n",
      "news\n",
      "I don't agree with BLM&com; in fact I think the media is finally acknowledging police brutality protests after they've been happening for decades&com; because BLM makes it a white v black issue instead of an American issue. All types of people are effected. But calling all BLM protestors dumb and violent is what we call subtle racism. I'm half and half and the idea of race to me is just ridiculous any arguments you can make to say \"race\" is really real&com; all can be used when just talking about family genes that are passed down from any \"race\". &nl;&nl;**EDIT:** a word\n",
      "news\n",
      "You just linked to one of them. I mean if you want more just google it. People as a hole&com; throughout all of history everywhere in the world do drugs. If you want to be dense to even the data you linked to then that's your choice. Blacks are an easy target and are grouped in large bunches. To bust white kids they would have to go to less dense areas. Also the small towns they live in have in general a much lesser police presence and budget. &nl;&nl;Black kids get caught&com; get a felony&com; go deeper within the system. Get out with nothing but a stamp that says you can't get a normal job that makes money&com; the most lucrative positions obtainable then are positions moving drugs. Which since it's a business that's illegal offers no protection for lost funds or theft outside of your own hands. It's easy to see. Barely anyone is saying blatantly \"I want to target blacks\" it's just how the system has been. A lot of blacks started getting criminal records for ridiculous accusations after the civil war so the slave labor could continue in the form of chain gangs&com; this continued and then even more got charges during the civil rights movement. This entire time being a direct target by police&com; after that came mandatory minimums and the war on drugs&com; which made cheaper less pure versions of the drugs that poor people used carry much harsher sentences. This entire time since the cops have been at literal war with blacks since the civil war &com; and money was hard to come boy since most opportunities were not available. It allowed gangs to grow. The problem is deep&com; police brutality is a problem&com; BLM is stupid in the fact they don't acknowledge it is an American problem&com; as whites are very much affected too. Thus splitting police brutality into a black v white issue&com; couple this with the fact this group has no charter or real leaders and anyone with a hashtag or that's black within 10 miles of the protest is considered in the group. It gives the media an easy way to damage race relations&com; there have been groups protesting police brutality for years&com; doing this for years. Not until an unorganized group with \"black\" in the name comes about does the media even acknowledge it. Police brutality and the situation in the inner cities is a real problem&com; one the government is making worse.\n",
      "news\n",
      "And this one was mad his confederate flag was stolen&com; so I doubt he approves of BLM.\n",
      "news\n",
      "No the group BLM only protests police brutality because that's why they were formed. Violence in the black community has always been talked about but you can't change criminals and gangs with government policy and protests like you can with government employees.\n",
      "news\n",
      "Do you want 13% of the population to fix problems that run deeper than just \"go to school\"&com; BLM is stupid because it's isolationist and unmanaged. Anyone with a hashtag can be a member. But BLM doesn't \"blame white people for their problems\" it's not about white people&com; it's about police brutality. All because a group of black peoples near a protest were filmed saying stupid shit doesn't mean they all believe that way&com; using YouTube videos as a prime source of *are they racist* the same could be said about any group.\n",
      "news\n",
      "I mean here you are saying  black people cant talk right&com; and resort to stealing after loosing an argument&com; and wonder why you get called racist. I think they way BLM from the start has gone has been misguided&com; but their claims are not all ridiculous. Not to mention it's barely a group it doesn't have central leadership anyone with a hashtag is member. If you want to have a discussion about issues try it in a town hall meeting&com; not with a protestor in the middle of the street.\n",
      "news\n",
      "Yes how much pigment one has under their skin is important&com; it's not like we're all people and they are the same as you or me despite looking a little different. /s&nl;&nl; This is why black lives matter is also stupid. Naming your group after a fake label literally made up to lessen your value to society is idiotic.\n",
      "news\n",
      "I like Climate Change&com; I want it be summer all the time&com; I'm going to just keep the car running all day fuck it. \\#BLM&nl;&nl;Not anymore now we love climate change and want more HAHA!\n",
      "news\n",
      "Like I said \"the media\" every article you see is telling you that&com; because they are the media&com; owned combined by like 7 people. That's why there have been groups protesting police brutality for decades real groups with names and members&com; but you don't hear about it until we have a hashtag where we can throw any crazy person as a member of this \"group\".&nl;&nl;\"I want to blow up all windmills&com; \\#BLM\" &nl;&nl;Right Wing Media - breaking black lives matter members threaten to end countries strides towards renewable energy. &nl;&nl;&nl;Left Wing Media - Black Lives Matter protesters call for closer look at how the country uses its resources&nl;&nl;&nl;*controversy created*  \n"
     ]
    },
    {
     "name": "stdout",
     "output_type": "stream",
     "text": [
      "news\n",
      "&gt;but they do not regulate their group&nl;&nl;Because it's not a real group&com; it's just a hashtag&com; I could say some real radical stuff throw a \\#BLM after it and boom! \"Black lives matter member calls for the downfall of windmills.\"&nl;&nl;Now it's back to a black v white issue and not a police brutality issue&com; the lower classes are fighting again and we are ignoring another election between who's the least worst millionaire.\n",
      "news\n",
      "You didn't even read the post&com; I said blacks were disproportionately killed&com; that doesn't mean it's only a black problem&com; Native Americans are killed at a higher rate than blacks&com; so should blacks just call it a day since this obviously a contest of who gets killed at the highest ratio and not about fixing police brutality? They can't make laws for just black people&com; that's not how it works. &nl;&nl;Naming a movement meant for change after a fake label that was purely made to separate us is just stupid. In every way&com; BLM is just a way for the powers that be to turn this back into a black only problem&com; when it's a lot more than that.\n",
      "news\n",
      "I mean it's whoever wants to buck up first&com; the cops and inner city black have never in history had a good relationship&com; they were slaves and policed&com; they got their freedom but then with Jim Crow were policed&com; they got segregation reversed and then came the hoses&com; followed by the war on drugs targeting the inner cities breaking up families. The relationship was never there&com; it's never been a viable option in those places to go to the cops. But in the end everyone is given demons unfortunately those are your demons&com; and you are the one who has to take care of them. But on the other hand it's easier to ask and implement ways for a state paid employee to better reach out to a community than something as vague as an entire \"race\" to reach out to police.&nl;&nl;I mean again here we are talking about race and police when more whites were killed than blacks last year&com; even though black were still affected at a higher rate. This effects everyone&com; I've personally had every type color of person near me effected by police brutality&com; of course it happens to blacks more they are in some of the most vulnerable positions in this country&com; but now it's starting to bleed. Unfortunately BLM is reversing it. I think it's faux&com; made to steer the issue back into a black only issue. I mean to have a non-centralize group that anyone that has a hashtag can be in&com; named after a fake label made to divide people&com; get so much media attention it seems strange. Either way I think it would be easier to have state run employees be made to start the change.\n",
      "news\n",
      "This is Reddit now&com; guy makes a bold claim with no source that fits reddit's BLM is stupid narrative and it's at the top. With zero regard to the issue.\n",
      "news\n",
      "[No you looped me in with BLM](http://www.reddit.com/r/news/comments/4s5qe0/el_paso_leaders_congressman_call_out_police_chief/d56r0tf)&com; after I said protesting accomplishes nothing. Brown v Board was passed through the courts&com; interracial marriage was made legal because of the courts.  Like I said I think protesting in general accomplishes nothing&com;  but only gives anger an outlet so it doesn't turn into rebellion. Obviously I'm not with BLM because all they do is protest violent or non-violent. And my opinion is mine and doesn't represent an entire race&com; especially since I'm only half of two.\n",
      "news\n",
      "I think BLM is stupid and inciting more hate&com; protesting in general is just a tactic they let us have to make us feel better. &nl;&nl;The SCOTUS can't help us this time&com; the only thing that will change things is congress. And that's not going to happen. I think MLK did it better because he brought a lot of whites to the blacks side. But don't act like any real laws got passed because of it. Protests don't change things.&nl;&nl;Unfortunately war does&com; but the black people will loose that one&com; so really it's just perpetual frustration.\n",
      "news\n",
      "BLM is doing nothing but making police brutality seem like less of an issue. It seems more like a way for the powers at be to keep people thinking it's a black issue not an American issue&com; and keeping police departments filled with corruption with anyone speaking out against it looped in with BLM. &nl;&nl;No I just think protesting is a way to make people feel important when really nothing has changed. I mean I just said protesting was stupid and somehow I'm with BLM when that's all they ever do. It's just a way to keep us segregated and fighting each other.&nl;&nl;**EDIT:** also my personal opinion doesn't represent all of black culture. It just represents mine.\n",
      "news\n",
      "Problem is it's being done as a spiteful thing&com; they want it to be a message like \"now you can't ignore this&com; your day has been stopped and inconvenience because a black man was killed by a cop\". But people just get pissed off&com; still ignore the black person getting killed by a cop and are just pissed at black lives matter&com; which can in turn also seem like any person speaking out against police brutality in general. The entire BLM movement really has reversed serious steps towards curbing police brutality. &nl;&nl;I think the entire thing is faux. I think the movement was made specifically to make police brutality seem like a black only issue&com; and to get more people over to the cops \"side\". As if ridding their departments of dangerous criminals that they have to work side by side with&com; isn't being on their side. Just more ways for the people on the ground to fight each other&com; and forget we're being robbed blind.\n",
      "news\n",
      "Since BLM is about police brutality towards blacks&com; not black on black crime&com; it doesn't make sense that they would protest. Now there are other groups that will. But it's not what BLM group is about. \n",
      "news\n",
      "&gt;because you're sensitive.&nl;&nl;Again you're missing the point&com; it doesn't matter intent&com; it matters how the general population views you. That's why MLK worked so hard on the image of his group&com; and why real change happened.&nl;&nl;&gt;Because BLM is pointing to cops as not being held accountable?&nl;&nl;because it's pointing out only for blacks&com; when it's a bigger issue than just blacks. Still more whites are killed each year.&nl;&nl;&gt;Pointing out racism in America doesn't mean placing the blame on presently living white individuals.&nl;&nl;It's not just pointing it out its making a group only set to better the lives of one race.&nl;&nl;&gt;So where was the AllLivesMatter crowd when Zachary Hammond was killed?&nl;&nl;Because it's not a real movement.&nl;&nl;&gt;But if you ignore how groups are disproportionately harmed by a problem&nl;&nl;you can point that out with out naming a group solely after one race look at the entire civil rights movement.&nl;&nl;&gt;It's called doing the right thing.&nl;&nl;and that is not isolating black people further&com; the things that separate races make up like .00001 percent of our DNA. Race has always been a way for the upper class to pit the lower class against one another instead of the real issue. You are just continuing to play into it.\n",
      "news\n",
      "You're replying to a different person he didn't say it was about disparity I did&com; all BLM does is make it a black issue and not a national one like it should be&com; this will get no where like it has&com; until we pick a name that's not a made-up label used to belittle us.&nl;&nl;And if you don't want laws for just black people&com; maybe don't make a group as borrow viewed as BLM\n",
      "news\n",
      "What says he's a leader of BLM you have a picture of him at a rally? There isn't even real group BLM it's more of a blanket term for black people protesting&com; he had two groups under different names&com; again so he could use the cover of charity for pimping.\n",
      "news\n",
      "BLM has no organization&com; it's just a blanket term. People take advantage of situations. There isn't even anything saying he was in BLM&com; he had a group set up himself under different names. \n",
      "news\n",
      "I'm brown myself&com; it pains me to see no movement in this issue because of the name this \"movement\" is under. It itself is isolating the issue to a black problem. When even though black are disproportionally effected by it 7.2 per million to 2.2 for whites&com; more white people were killed total. And I can't find anything on BLM protesting for Zach Hammond and that's the problem. I'm about the color of Steph Curry&com; does my life matter? Am I \"black\" enough? It's a stupid label set up explicitly to segregate the issue. &nl;&nl;The problem is laws don't get passed for only \"black\" people&com; and being 13% of the population if we want exploitation to end we need to stop making it about race. We want cops to not make it about race&com; yet that's all the group is about. You've been had&com; this was set up as \"Black Lives Matter\" with no central organization or leader&com; to make it a black only issue (which it's not)  and make it easily swept under the rug.\n"
     ]
    },
    {
     "name": "stdout",
     "output_type": "stream",
     "text": [
      "news\n",
      "Again it doesn't say his group was even BLM&com; is any black person in a group apart of black lives matter? It seems like he set up fake charities for pimping&com; I mean do you have a photo of this guy leading a rally or anything? Not to mention there is no organization to BLM&com; so calling anyone a leader is silly.\n",
      "news\n",
      "Well that's true the article itself is too I mean \"leader\" there is no leader. It's not even really a group. Some people are starting to call any black and police protesters BLM. Even if they've been around long before.\n",
      "news\n",
      "&gt;First BLM is pro-segregation&com; now they're pro-lynching.  Weird how these things reverse&com; isn't it?&nl;&nl;You realize there have always been black segregationists right? That was what Malcolm X preached until about a year before his old organization killed him. There have always been black people who want segregation.\n",
      "news\n",
      "&gt;Black Lives Matter...I...just...what? How are they in any way&com; shape&com; or form&com; comparable to whiny racists and white-guilt laden college students that abuse&com; assault&com; and harass their dissent into submission? &nl;&nl;It's all about how they feel they are being portrayed&com; not about what they did&com; all these people probably feel how they are portrayed in cover pieces are bad. That's the point&com; it's not about what they did&com; it's that they feel they are portrayed badly by cover pieces&com; they still did the bad things if they didn't there would be a lot less to exaggerate.\n",
      "news\n",
      "I used Nazi because it's a group that is widely recognized and hated by most&com; I could have replaced it with BLM&com; That pharmaceutical CEO&com; Andrew Jackson's treatment of Native Americans&com; police during the civil rights movement&com; police now&com; etc. Nazi is widely recognizable&com; get over yourself&com; you know the point I'm trying to make.\n",
      "FlashTV\n",
      "It’s all about time andContext.&nl;&nl; we’re in the middle of pride and worldwide BLM protests.&nl;&nl;His boss is African American and hiss boss’s boss is openly gay.&nl;&nl;Any other time it might have not been fired but ain’t no company defending Anything racist or homophobic atm especially the CW\n",
      "FlashTV\n",
      "I wasn’t disagreeing with you that he probably shouldn’t have been fired&com;&nl;&nl;However I think the fact that they resurfaced In the middle of pride month and worldwide BLM/police brutality protests is what did it&nl;&nl;No company is looking to defend anything racist or homophobic atm let alone the CW &nl;&nl;The fact his boss is African American and his boss’s boss is Gay probably didn’t help either\n",
      "FlashTV\n",
      "This is real simple should he have known better&com; at the age he tweeted - YES&nl;&nl;Did he deserve to get fired? at any other time he probably wouldn’t have&com; however context.&nl;&nl;These tweets resurfaced in the middle of Pride and Worldwide BLM/Police brutality protests and he works for the CW. A network that prides itself on diversity.&nl;&nl;Of course they fired him&com; Nobody wants to be defending anything racist at the moment\n",
      "trashy\n",
      "So that made trash people who don’t believe in BLM fuck up these graveyards...&nl;&nl;Your stupidity is showing sir.\n",
      "trashy\n",
      "Exactly.  Anyone who cares about BLM didn’t do this. The same opportunist that are taking advantage of the chaos to steal did this mess.  &nl;&nl;There are multiple videos of people getting caught doing fuck shit.  Look it up.\n",
      "therewasanattempt\n",
      "Ethnicity and race are 2 different things&com; but white people are allowed to participate in the BLM movement (as I understand it in its original form/purpose)\n",
      "therewasanattempt\n",
      "How&com; BLM people didn’t use ALM&com; so your use of the word tautology is incorrect. And ofc MLK didn’t use the protest BLM&com; we hadn’t yet achieved any real form of inequality that required the use of the phrase. Do us all a favor and stop responding.\n",
      "therewasanattempt\n",
      "It doesn’t fall apart tho. And I didn’t use the word slogan&com; I said protest&com; because that’s what it is&com; and ALM was used as a counter-protest to drown out and disregard the protest of BLM. Also&com; you didn’t make a point against mine&com; you just found something slightly related to nitpick\n",
      "therewasanattempt\n",
      "Because people (like you) don’t understand the nuance or context. It was black lives matter (that people tried to wave away with “all lives matter”) because the specific focus was on the treatment of black lives in America&com; especially at the hands of the police. That was the original (and I stress original) message behind the black lives matter movement. The pushback ramped up more when people began saying “all lives matter” as a counter-protest&com; completely missing the point of the movement.\n",
      "AQW\n",
      "[For being right](https://www.reddit.com/r/AQW/comments/bi7l4i/this_is_a_bad_idea/elys8lb/?utm_source=share&amp;utm_medium=ios_app) &nl;&nl;[For being right (again)](https://www.reddit.com/r/AQW/comments/bmsnh2/guild_slots/en080ie/?utm_source=share&amp;utm_medium=ios_app) &nl;&nl;[Making a tax joke](https://www.reddit.com/r/AQW/comments/bmgovb/aes_meeting_in_nutshell/emwwhli/?utm_source=share&amp;utm_medium=ios_app) &nl;&nl;[Sharing my two cents of why AE may have decided to charge 2.5K AC for a weapon. ](https://www.reddit.com/r/AQW/comments/blmzo3/roliths_hammer/emq5dh2/?utm_source=share&amp;utm_medium=ios_app) &nl;&nl;[Asking for someone’s PayPal out of jest](https://www.reddit.com/r/AQW/comments/bkv2xs/vesper/emjqhrg/?utm_source=share&amp;utm_medium=ios_app) &nl;&nl;[For being correct (Again x2)](https://www.reddit.com/r/AQW/comments/bjwzn2/if_i_pledge_25_to_the_moglin_kickstarter_rn_how/emen2fi/?utm_source=share&amp;utm_medium=ios_app) &nl;(The dude I was replying to had no idea what he was talking about and was 100% incorrect and still received 5 upvotes.)&nl;&nl;Just scroll through my comments on my profile&com; now compare that to the meme posts I made bashing AE. You’re so out of touch with this sub&com; it’s not even funny. &nl;&nl;I’ve drawn quite a bit of a target on my back&com; playing devils advocate. Literally any posts on AQW in the past week have been insta downvoted an hour later.\n",
      "AQW\n",
      "[For being right](https://www.reddit.com/r/AQW/comments/bi7l4i/this_is_a_bad_idea/elys8lb/?utm_source=share&amp;utm_medium=ios_app) &nl;&nl;[For being right (again)](https://www.reddit.com/r/AQW/comments/bmsnh2/guild_slots/en080ie/?utm_source=share&amp;utm_medium=ios_app) &nl;&nl;[Making a tax joke](https://www.reddit.com/r/AQW/comments/bmgovb/aes_meeting_in_nutshell/emwwhli/?utm_source=share&amp;utm_medium=ios_app) &nl;&nl;[Sharing my two cents of why AE may have decided to charge 2.5K AC for a weapon. ](https://www.reddit.com/r/AQW/comments/blmzo3/roliths_hammer/emq5dh2/?utm_source=share&amp;utm_medium=ios_app) &nl;&nl;[Asking for someone’s PayPal out of jest](https://www.reddit.com/r/AQW/comments/bkv2xs/vesper/emjqhrg/?utm_source=share&amp;utm_medium=ios_app) &nl;&nl;[For being correct (Again x2)](https://www.reddit.com/r/AQW/comments/bjwzn2/if_i_pledge_25_to_the_moglin_kickstarter_rn_how/emen2fi/?utm_source=share&amp;utm_medium=ios_app) &nl;(The dude I was replying to had no idea what he was talking about and was 100% incorrect and still received 5 upvotes.)\n",
      "politics\n",
      "BLM is not a monolithic movement or group at this point. Also&com; people pushing Bernie to be better or more aware on certain issues is not the same thing as just smearing him as a racist nonstop like Jason Johnson does.\n",
      "unpopularopinion\n",
      "Counterargument:&nl;&nl;Racism isn’t just simply differing treatment based on race. It’s specifically discrimination or *hatred* of another race *based on the belief that one’s own is superior*.&nl;&nl;That last part is key.&nl;&nl;Because you could argue many things like this are indeed discriminatory (by the literal definition of the word) but do not necessarily come from a place of hatred or feeling superior to another group of people. Maybe you could argue that it’s still a problem if we eventually want to live in a colorblind society&com; but that’s not our reality yet&com; and our history still impacts today.&nl;&nl;Now I’m not trying to say that Black people *can’t* be racist&com; because that’s absurd. I don’t agree with the recent prejudice + power redefinition that’s become so common.&nl;&nl;However&com; Black only groups and movements (such as Black Lives Matter&com; Black Pride&com; Black Power&com; verified r/blackpeopletwitter&com; etc.) serve a practical purpose and it comes down to numbers. Black people are a statistical minority in America and Europe. Having spaces specifically for Black people helps for discussions that are by for and about them and their issues and/or culture.&nl;&nl;On the other hand&com; white people are the majority (or at least plurality) in most of America/Europe. It’s not necessary for them to make white only groups because their ideas and culture are already part of the mainstream&com; and on average&com; they also have more economic and and political power.&nl;&nl;On the issue of double standards: the reason why things like “White Power/Pride” send off red flags is because in addition to not being a statistical minority nor a historically oppressed group&com; “White” isn’t even a race—it only exists in relation to being Black or colored. The only reason Black people refer to themselves as Black is because descendants of slaves lost all connection to their specific nationality and ancestry. &nl;&nl;A more fair comparison would be if there was a sub specifically dedicated to Irish or Italian culture and on certain posts tried to limit the posters to people who are actually from their or have direct ancestry—and if that were the case&com; I wouldn’t consider that racist either.\n"
     ]
    },
    {
     "name": "stdout",
     "output_type": "stream",
     "text": [
      "unpopularopinion\n",
      "Ehhh...I’d say it depends on what you’re talking about. These issues are complex.&nl;&nl;Striving for pure color blindness is naive and ignores the reality of the world that people of color live in. People are different and have different circumstances &nl;&nl;Furthermore&com; things like BLM or Black Power/Pride get their meanings twisted to mean hatred against White people&com; when in reality it is all about uplifting Black people who have systematically been disadvantaged and discriminated against for much of the nation’s history.&nl;&nl;On the other hand&com; knee jerk reactions based on broad generalizations are harmful for everyone. Of course privileges and advantages are statistically real&com; but at the end of the day&com; they are based on averages. It’s not fair to completely dismiss someone and assume what privileges they may or may not have had based on their appearance alone. Another issue stemming from this same problem is the “bigotry/racism of low expectations”.\n",
      "standupshots\n",
      "All credit to BLM for instigating the soon-to-pass changes and reform.\n",
      "Saints\n",
      "That’s his best and only defense.  I mean the season hasnt started so nobody has knelt during the anthem...he has time to help that situation before it comes. &nl;&nl;People defending him are providing cover by proxy for the people who outright reject blm as well.  There is one toght sode to all of this and no fence.  There is no flag or anyhem to protest right now so that shouldnt be part of the equation.  That argument allows people to miss the point today\n",
      "memes\n",
      "Funny that he said \"cool&com; now let's get the news off me&com;ava back to the protests/blm\" but everyone is still talking about him.\n",
      "xmen\n",
      "As a black man ... I’d like to first say suck my dick . When you are standing among your oppressors a protest cry of “ i can’t breathe “ is weak ass statement so is “ black lives matter “ both are speaking from victim hood ... not rising up . You don’t hear that type of conjecture from people who are tired you hear that type of verbatim from helpless people. Just because I’m a victim doesn’t make me helpless so i don’t lead with that soft verbiage . More than likely you are some white bread fat bitch who would never have had to concern herself with making a stand against anything but loss of privilege . So understand when i say.... storm would never stand among oppressors and mumble that weak ass phrase. Regardless of where it came from&nl;&nl;It’s fucking stupid\n",
      "uncensorednews\n",
      "since when did BLM kill and lynch people?\n",
      "memes\n",
      "I just wanted to point out other people from other states and etc. having been infiltrating and inciting some of the violence. I think its unfair to mess up businesses because residents from other states and individuals who don't care for the actual main message want to do this. Those who are there for violence are wrong and should be distinguish from the BLM because they are there for the same reasons. Its unfortunate. I wasn't trying to minimize the impact of ones livelihood. Also no one trying to say they matter more its more like a 'we matter too' not more.\n",
      "memes\n",
      "I want to say that there are a ton of videos and accounts of people infiltrating the BLM PEACEFUL protest to cause havoc and loot&com; it's just unfortunate that they can't determine who is who before. There are even videos of black people telling other people (usually non-poc people) that they are trying to keep it peaceful. Unfortunately&com; the news can only focus on the bad&com; but social media has done a good job of sort through the chaos.\n",
      "britishproblems\n",
      "Dont forget these are not the first protests on BLM. From memory the only notable thing in the past is when a runway got shut down at London City airport I think. By contrast these protests have been more successful. It's being debated in Parliament&com; Cabinet Ministers have come out and said Black Lives Matter. It also came at a time when POCs are dying disproportionately of Covid 19&com; because it's mostly POC who occupy the jobs you can't work from home. A protest by definition is always going to be at an unfavourable time.\n",
      "Libertarian\n",
      "Its funny how the thread talking about how BLM should stop focusing so much on race has hundreds of posts yet this one has so few...\n",
      "Libertarian\n",
      "They're referring to the BLM protests that happened for Daniel Shaver&nl;&nl;https://www.nola.com/opinions/article_4f6138fe-ea8c-551b-9e60-9e99feacacf2.html&nl;&nl;https://www.commondreams.org/news/2017/12/09/black-lives-matter-supporters-call-attention-graphic-video-arizona-shooting\n",
      "Libertarian\n",
      "And you’re just a dumbass&nl;&nl;You have white men like Jake fucking Paul getting arrested for looting related charges and yet you have people ignoring all that and still trying to simply pin this on the black community. &nl;&nl;When was he a member of BLM? We only know of him because he’s famous and got recorded doing it. He was surrounded by a group of white friends doing that same shit too. &nl;&nl;And I’m pretty sure he wasn’t the only white kid doing it\n",
      "Libertarian\n",
      "this post is even dumber than the last one and the asinine logic being used here is hilarious. &nl;&nl;Where in Facebook's or Instagram's or Twitter's or YouTube's Terms and Conditions does it say that these companies are public spaces that give anonymous users the right to say as they please? these companies spend billions of their own money on servers&com; marketing&com; etc.&com; and you saying that because they use the internet&com; they have to extend the 1A to everyone is fucking stupid. Do local businesses that use roads not have the right to kick people out of their establishment when they violate their codes of conduct? you can't go to a restaurant yell and say despicable things to a server&com; say it's your 1A right to say as you please&com; and then say the restaurant can not kick you out&com; because people use roads to get to the restaurant. &nl;&nl;Maybe you should learn what the 1A is and what it actually entails. It only gives you a right to not face repercussions from the government for what you've said. That's it. It does not protect you from social repercussions or from people not wanting to associate with you - in fact&com; freedom to associate with whoever the fuck you want is part of the 1A. &nl;&nl;ps non Americans - which make up the majority of social media usage&com;  don't have 1A rights. &nl;&nl;pps idgaf about any of these people or their perceived \"rights\". when they come for the neo-nazis it will be a glorious day and i will use my 1a rights to celebrate that. just like i do when i see videos of them being punched. you mentioning them in the same vane as BLM or Antifa is your 1A right. and me calling that bullshit is mine.\n",
      "canada\n",
      "&gt; Black lives matter guy who shot police officers.&nl;&nl;Just because a guy is black doesn't make him apart of Black Lives Matter. Micah Xavier Johnson wasn't a part of Black Lives Matter. &nl;&nl;&gt;Bernie supporter that shot up Congressional baseball game.&nl;&nl;What does a Bernie supporter have to do with Black Lives Matter?\n",
      "BlackPeopleTwitter\n",
      "How does Black Lives Matter not address black on black crime?\n",
      "unpopularopinion\n",
      "BLM to you stands for Boot Licking Mouth. &nl;&nl;&nl;Go back to boot licking and fucking your underage girlfriend.\n",
      "unpopularopinion\n",
      "Black Lives Matter didn’t do shit but show white people for exactly who they are. Hence why people like you who clearly don’t know shit about MLK post threads like this.\n",
      "unpopularopinion\n",
      "&gt; Most other groups seem to be attacking white males rather than the 1%&com; which is why I cant stand modern identity politics.&nl;&nl;Show me the white males that support the cause of ANTIFA or Black Lives Matter that are getting attacked by these other groups?  &nl;&nl;&nl;&gt;99% of white men through history have been in the same economic boat as everyone else.&nl;&nl;I firmly believe that identity politics is used to divide the 99% so they dont focus on the 0.01%&nl;&nl;The problem is deeper than identity politics&com; the problem is Capitalism. \n",
      "television\n",
      "No one debates White Lives Matters. It was never needed because the public already values white bodies more than any others.&nl;&nl;Black Lives Matters is worth promoting because it isn't a social guarantee. But you know that already and you're being a knob.\n"
     ]
    },
    {
     "name": "stdout",
     "output_type": "stream",
     "text": [
      "hiphopheads\n",
      "My biggest problem with having this conversation at all is how people's overexcitement of Kendrick often leads to a total disregard for the history of hip-hop and all the artists that came before him. Like if you think Kendrick is the GOAT. You're absolutely entitled to that opinion man. TPAB is a classic. And I will never stop praising it. &nl;&nl;But there are so many things worth considering such as the people who came before Kendrick as well as the people who are more talented than Kendrick but never got their shine due to whatever circumstance. They deserve equal praise as well because they had to deal with far more intolerant and aggressive scrutiny within the genre as it was still growing. People like NWA&com; Lauryn Hill&com; Outkast&com; Jay Z&com; Kanye pretty much defined what hip-hop is today&com; breaking conventions and influencing both the genre and people's perception of it. &nl;&nl;Back then it was virtually impossible to win a AOTY Grammy let alone get some radio play without some bubblegum pop song that appeals to wider demographics. People consider Outkast's Speakerboxxx one of their weaker projects&com; and it won AOTY almost entirely thanks to a lot of the artistic concessions that they made. &nl;&nl;How many hip hop artists today get ripped apart by the media which in turn completely harms any chances of them becoming mainstream household names? You think it was unfair how Taylor Swift won AOTY over TPAB? Welcome to being a hip-hop fan because that's pretty much what every hip-hop artist has had to deal with for the last 40 years.&nl;&nl;But now today&com; hip-hop is pretty much a mainstream hit that everybody and their grandparents wants a piece of. That combined with the crazy internet age&com; FOX News&com; Black Lives Matter. Kendrick has positioned himself at the perfect time as the new official hip-hop golden boy to show audiences how gangsta rap can be taken seriously as a critical art form.&nl;&nl;And he deserves every ounce of praise he gets because he is truly a phenomenal artist.&nl;&nl;But I will NEVER in good conscious call Kendrick the GOAT because not only did he not get where he is on his own but he certainly hasn't been around long to enact the same amount of genre defining influence as his predecessors. The greatest in the last 5 years? Arguably. But of all time?&nl; Never. Nonetheless&com; I have high expectations for him and look forward to everything he does.\n",
      "BlackPeopleTwitter\n",
      "(I know you're just using the vid as an example to make a point and you have nothing to with it. So this isn't directed towards you.)&nl;&nl;I just find it hilarious how people like using these isolated incidences as full blown evidence that reflects on the overall behaviour of the million/billions of others who identify as part of these movements but when the tables are turned&com; they are extremely apologetic of their own side.&nl;&nl;&nl;*\"Black lives matter protestors attack white people\"*&nl;&nl;*Reaction:* WTF!! Black people are so racist!! Those monkeys should go back to Africa!!&nl;&nl;*\"Feminists protestors cause huge disturbance\"*&nl;&nl;*Reaction:* Feminism is cancer!! DAE think men are le real victims!!?&nl;&nl;\"[White people responsible for 48% of all mass shootings between 1982-2016](https://www.statista.com/statistics/476456/mass-shootings-in-the-us-by-shooter-s-race/)\"*&nl;&nl;\"[White men killed more American police than any other group this year](http://www.nydailynews.com/news/national/king-cops-killed-white-men-conservatives-silent-article-1.2632965)\"&nl;&nl;*Reaction:* Oh my God&com; why are *all* white men always getting blamed for everything!? Stop judging us based on a few bad apples!! Jesus... Selective ignorance!!!&nl;&nl;Classic internet.\n",
      "Gamingcirclejerk\n",
      "Yup. Pretty much. It also really didn't help that a lot of the movement protestors have been the subject of public disorder and widespread controversy (especially the Bernie Sanders incident). In the end&com; BLM suffers the Feminism problem.&nl;&nl;Loud obnoxious minority being recognised over the quiet sensible majority.\n",
      "Gamingcirclejerk\n",
      "You mean stuff like \"AllLivesMatter\"? Oh man&com; that shit also got under my skin. It's just such a bratty social retort that served no real function other than to undermine BlackLivesMatter with its own childish self-importance.\n",
      "hiphopheads\n",
      "how is the blacker the berry a protest song?? the song is literally about kendrick criticizing HIMSELF for being a hypocrite. in the context of this movement going on rn&com; its a bad choice.&nl;&nl;EDIT: Are you guys *really* downvoting me? You don't have to have a degree in English literature or poetry to understand that the song is about internalized anti-black self-hatred. This song is not only not a protest song&com; but it's completely tone deaf to think it's relevant to the current movement. Literally just read the final lyrics of the song:&nl;&nl;&gt;It's funny how Zulu and Xhosa might go to war&nl;&nl;&gt;Two tribal armies that wanna build and destroy&nl;&nl;&gt;Remind me of these Compton Crip gangs that live next door&nl;&nl;&gt;Beefin' with Pirus&com; only death settle the score&nl;&nl;&gt;So don't matter how much I say I like to preach with the Panthers&nl;&nl;&gt;Or tell Georgia State \"Marcus Garvey got all the answers\"&nl;&nl;&gt;Or try to celebrate February like it's my B-Day&nl;&nl;&gt;Or eat watermelon&com; chicken&com; and Kool-Aid on weekdays&nl;&nl;&gt;Or jump high enough to get Michael Jordan endorsements&nl;&nl;&gt;Or watch BET 'cause urban support is important&nl;&nl;&gt;So why did I weep when Trayvon Martin was in the street&nl;&nl;&gt;When gang-banging make me kill a nigga blacker than me?&nl;&nl;&gt;Hypocrite!&nl;&nl;PLEASE tell me how this song is in **ANY** WAY a protest song against police brutality or for the cause that BLM represents????? At first glance&com; one may think this is a protest song because he spends the vast majority of it criticizing white people and whiteness for instilling self-hatred and portraying hatred upon the black community but he flips the script at the end of the song when he realizes that despite all the animosity he holds towards the white community for vilifying him&com; he's still a hypocrite because he has been a destructive force in his own community just as much as white people.&nl;&nl;The song is a great song in the context of the album&com; and for Kendrick's own battle with internalized racism&com; his own hypocrisy&com; and navigating his voice within the community but that song is in no way relevant to what's going on since George Floyd (or any pro-black sentiment either). Depending on interpretation&com; this song is either a criticism of himself or the black community as a whole. I chose to believe the former&com; because otherwise the song serves as an antithesis to the point of the album (at least in my opinion). But either way&com; if we analyze the song as a whole and take into account the final verse&com; this song **is in no way a protest song** unless the protest is against the black community (which seems to *not* be the point of this thread).\n",
      "hiphopheads\n",
      "**I’M SUCKIN’ DICK ‘CAUSE BLACK LIVES MATTER**\n",
      "hiphopheads\n",
      "**I’M SUCKIN’ DICK ‘CAUSE BLACK LIVES MATTER**\n",
      "RnBHeads\n",
      "So I have a [playlist](https://open.spotify.com/playlist/2burZUmWLV3xi0nZ9KDD9M?si=jtQ4muXcQ6WoxNs1p-0-fA) that loosely describes the kind of music you're looking for. It's a chill/relaxed&com; jazzy&com; lowkey vibe of R&amp;B music with alot of obscure artists. Only a handful are as low as 50k listeners (cause honestly that's a hard criteria to meet lol&com; that's SUPER obscure) but the vast majority are below 900k. If you don't wanna look at the playlist tho&com; here's a list of artists from the playlist worth listening to.&nl;&nl;[Sky](https://open.spotify.com/artist/2CfhN5oSdaZIGfe2KTq2yB?si=XcsvbMxmTJWl8UPjhoDzPg)&com; [Charlotte Day Wilson](https://open.spotify.com/artist/3GQboECxDT1xqPPWC30p7v?si=KInbq5DKQp619jyeKsquRQ)&com; [Malia](https://open.spotify.com/artist/5o6oaYrumOkkzsOmwZXJv6?si=3eV73LRTQnOQvViati5gkg)&com; [Puma Blue](https://open.spotify.com/artist/6lHO1eGthNnos9KP2BH0cG?si=kNTmdnOkQyGdsmWnLtR5vg)&com; [McClenney](https://open.spotify.com/artist/44drVL4jbdo6T6llD5cMgx?si=9d6noMYqRVq5tOpCR4TvJg)&com; [UMI](https://open.spotify.com/artist/4ClziihVpBeFXNyDH83Lde?si=v9bfXm7qTJOsBfjMLoB3hg)&com; [Mac Ayres](https://open.spotify.com/artist/0fTav4sBLmYOAzKuJw0grL?si=RcTGgYTSTnayBG4vhM0Gbw)&com; [Odunsi \\(The Engine\\)](https://open.spotify.com/artist/3QAWvRmq1TMLuNtDKVyRaW?si=HB7tH_4HRSGcsuL-Cevq8g)&com; [Temani](https://open.spotify.com/artist/5dmwcroOjgH0wp1AIcISAh?si=SeQ4GXksQ9WRZ0wxwJofkA)&com; [Shelby Adams](https://open.spotify.com/artist/3VQYfMHJWIpoIHL7IMnB3q?si=U5wd77FXS1SX6UcvdC7Zsg)&com; [Radiant Children](https://open.spotify.com/artist/2e0Bkreg0zzfE5umvfKQXf?si=G1iPgv67R9GJA0OCTWswCA)\n"
     ]
    },
    {
     "name": "stdout",
     "output_type": "stream",
     "text": [
      "popheads\n",
      "Are you assuming i’m not black? lol&nl;&nl;Alright had more that a moment. Have you gone to any BLM rally in the past 4 years? That song is literally a chant they do to rally people together. TPAB is the encapsulation of a very ever-present contemporary black experience. Of course&com; it’s not gonna resonate with everyone in our community because our experience isn’t homogenous but as an artistic portrait&com; it does a good job&com; especially for it to become as popular as it did. Art is subjective so of course people are gonna consider some things boring but I think we can take an objective look on how that album has impacted the culture. In a world of modern hip hop&com; Kendricks dropped a best selling conscious album  with imaginative jazz-rap production. He rapped about being kunta in a white mans world&com; feeling alright despite police brutality&com; recognizing his hypocrisy in his own social justice versus personal demons&com; loving himself and not committing suicide because of the way his life has gone. The album situates itself as not only a depiction of a black experience (as said before) but also within a contemporary white mans world and a society that invalidates such a story being told. NO other mainstream artist had the balls to go on the Grammy stage in chains singing that we&com; as a black community&com; are going to be alright. That album is politically ambitious&com; artistically creative&com; and above all&com; an encapsulation of this decade. No other popular rapper has done what Kendrick has in that album this decade.\n",
      "popheads\n",
      "I’m not gonna disagree when you say how artistically ambitious the album is but let’s not forget how culturally relevant TPAB was in the context of the decade it’s was released in. He talks about mental health and suicide&com; the plight of the black man and social justice seamlessly through jazzy hip hop. And the fact that such a sonically experimental (or at the very least non-mainstream sounding hip hop record) could enter the popular space of music is phenomenal. Kendrick experimented with different styles too but - as said - what also matters is the grand impact it has had on the culture. That album will remain one of the most celebrated politically charged records to date because it was impactful. “Alright” is the anthem for the black lives matter movement&com; a historically significant enough movement that will be talked about for years to come. I’m not denying that MBDTF was an artistic masterpiece but Kendrick made an album that was not only an artistic masterpiece in its own right but also an album that perfectly encapsulates some of  the biggest political discussions of the decade.\n",
      "DesignPorn\n",
      "simply because this shows a woman as a victim means its not inclusive? you sound like one of those people who think “black lives matter” means white lives don’t lol\n",
      "Kanye\n",
      "&gt;Both slogans are not controversial in the strict definition of the words&nl;&nl;Not really lol. &nl;&nl;Black Lives Matter is a statement that literally means and implies that black lives are not being considered as valuable in this country. This is evidenced by the years of oppression we've suffered&com; police brutality&com; the prison industrial complex&com; the judicial system&com; and the list goes on and on. What's controversial about that? But the statement \"Make America Great Again\" implies that America was \"great\" at one point in time. But great for whom? Since when has it been universally accepted as a great place to live? Because immigrants&com; minorities&com; members of the lgbtqia+ community&com; women&com; and many more groups would disagree that it ever was a truly great place to live for everyone.&nl;&nl;\"Black Lives Matter\" is only \"controversial\" because racist white folk erroneously took the term to mean that we're saying non-black lives don't matter and even if you consider the wrong protests done by people in the name of the organization&com; that doesn't change the fact that the simple phrase is simply just meant to bring attention to the fact that this country doesn't value us. &nl;&nl;It's incorrect to equate both phrases as equally controversial (or even that BLM is controversial) and imply that they are opposites. One promotes advocacy on behalf of a group of disenfranchised and oppressed people. And the other makes a hopeful proclimation based upon a whitewashed and misinformed summation of American history. \n",
      "Kanye\n",
      "The fact that you consider a shirt with the simple proclamation of 'Black Lives Matter' as the opposite of the MAGA hat speaks volumes. Wow.\n",
      "hiphopheads\n",
      "&gt; Saying that black people are treated unfairly isn't a political opinion it's a fact. The fact that slavery was bad isn't a political opinion not a fact.&nl;&nl;We have a president endorsed by white supremacists. We live in a world where the systematic mistrust and prejudice of black people is put on the back burner. We live in a world where it's controversial to say Black Lives Matter. These things makes what he says political. If they weren't problems&com; it'd be another story.&nl;&nl;&gt;The KKK in the title is a Capital STEEZ homage not a political opinion.&nl;&nl;And why the hell do you think Steez coined the respelling? it's not just homage&com; it's a statement.&nl;&nl;&gt;And he didn't take a political standpoint when speaking on civil rights and social justice issues&com; he just talked about it from his perspective as a young black man from NY.&nl;&nl;This is untrue&com; but either way it's still very much political. It's untrue because he makes broad statements about his race as a whole&com; making such makes it political. It's not an individualized album&com; it's very much an album about the black experience. He uses the word \"we\" alot on the album&com; that should be enough to indicate the larger implications of what he's saying. \n",
      "news\n",
      "This shit happens at a white nationalist \"protest\" but people wanna act like black lives matter is the problem\n",
      "television\n",
      "I don't have the slightest clue why you're being downvoted when you're saying the truth. People are acting like the show is anti-black or anti-SJW or anti-blacklivesmatter when it isn't. It's called Dear White People for a reason and just because it's an introspective look on the black community doesn't mean it's as critical on us as it is on the white community.\n",
      "television\n",
      "Bro&com; this show is exactly what you want. It's not just a \"dramedy  about gossip with a political gossip\". Its critique on social and racial politics in this country and it's simply using the stories of these college students as a brush to paint a vivid&com; meaningful and relevant story. What I meant in my comment was simply a response to OP as it seemed like they were trying to say that the show is anti-social justice or anti-blacklivesmatter or whatever. It definitely isn't. In fact&com; it's very pro that perspective *but* it's not a biased and uninformed opinion&com; it's a fully-fleshed critical analysis of the modern day social justice movement in relation to these black college students. &nl;&nl;I thnk this show is exactly what you want. I literally just finished the final episode a few minutes ago and I have to say that this series is much better than the original film. Honestly&com; I felt like the movie was a little rushed and this show takes its time to explore different the narratives and perspectives on the Winchester University college campus. Not to mention that the show retains all of it's excellent humor and it's really aesthetically pleasing to watch (the cinematography is A1).\n",
      "Blackfellas\n",
      "This is really true. Reading the /r/news thread&com; 90% the comments are \"this is a hate crime\" \"BLM is evil\" \"black people are racist!\" \"there is a huge race problem against whites &nl;and no one cares about the poor dude who got fucking tortured. This was def a hate crime&com; but this other bullshit about BLM being responsible (which literally makes no sense) is fucking stupid.\n",
      "BlackPeopleTwitter\n",
      "&gt; Not to undermine what BLM stands for&com; but it's poorly organized&com; has no central leadership&com; &nl;&nl;Though I agree with BLM not being the most organized&com; please don't attribute the civil rights movement to Martin Luther King. He has iterated time and time again that he was not the leader of the movement. In a way&com; there wasn't one singular leader. To attribute the title of **the** leader of the movement to MLK erases the efforts of thousands of people who contributed to it.\n"
     ]
    },
    {
     "name": "stdout",
     "output_type": "stream",
     "text": [
      "gaybros\n",
      "BLM isn't an aggregate of black people; black people arn't the only ones saying #blacklivesmatter. and even then&com; BLM isn't a contributor of homophobia. This act itself wasn't even homophobic&com; it was indiscriminately anti-police. It had nothing to do with the cops being gay&com; it had to do with the cops being cops.&nl;&nl;Additionally&com; like /u/aj_reddit_gaybi said&com; how the fuck do you think us black LGBT members feel? We already have to deal with a fair amount of homophobia from our own race so we try to find acceptance in the LGBT community yet people like you seem to act like our race struggle doesn't exist. When people see us&com; they see our race first&com; not our sexual orientation&com; etc. Hence&com; with that logic&com; **we are black before anything else**. You can lie or cover up the fact that your LGBT but when you're black&com; the prejudice and oppression is inherently simply because our skin is the first thing america sees. No one is racist against whites in the gay community; the only problems white gays have to deal with is homophobia while POC gays have to deal with much more. (and this problem becomes exponential when you're POC&com; LGBT&com; **and** a woman).\n",
      "gaybros\n",
      "First of all&com; I didn't call everybody racist. I literally said \"the racism in this thread....\" don't try to fucking straw-man me.&nl;&nl;Secondly&com; the majority of the following comments were about BLM (the movement/organization)&com; not specifically about BLM Toronto. I was commenting on the mass generalization of the movement. BLM =/= BLM Toronto and I've literally spent this entire conversation with you talking about how this chapter is **not** indicative of the entire movement. You seem smart&com; but how about actually reading what I have to say next time?&nl;&nl;The topic may have been about BLM Canada/Toronto but many people in this thread instead jumped the gun and started making comments on the entire movement in general. This led me to start commenting on everything I just stated above. \n",
      "gaybros\n",
      "Well&com; you know what&com; i'm not going to speak for BLM in Canada. I don't know shit about them besides this article. Everything I say about the movement in general still stands but i'm not going to defend BLM Toronto.\n",
      "gaybros\n",
      "Because they're more worried about stopping the systematic racism in law enforcement. Not saying I don't think BLM shouldn't do anything about her but from their point of view &com; they have \"bigger fish to fry\".&nl;&nl;Additionally&com; BLM doesn't \"hate all police officers\". That's a vast generalization based on a small minority certain 'radical' BLM participants/leaders. They hate corrupt police officers (which i'm sure you do too).&nl;&nl;Also&com; this is kind of off topic but I just want to say that *I* do not consider myself a part of the BLM organization. However&com; I do consider myself a part of the BLM **Movement**. In fact&com; I really don't think that people understand that Black Lives Matter is more of a movement than an organization. Most of the participants themselves wouldn't even consider themselves part of the organization; the movement itself only stands to fight the institutionalized/systematic racism against black people in this country. The movement spreads the word and actively participates in the conversation. *That's* what black lives matter is about. This view of BLM as a racist \"hate group\" is nothing more than a bunch of BS created to invalidate the entire movement which does not promote racism in any way&com; shape or form.\n",
      "gaybros\n",
      "Her being the cofounder of a chapter of BLM =/= creating the BLM movement\n",
      "gaybros\n",
      "I have googled her I keep getting mixed answers on whether she's the co-creator or just a member. Either way&com; that doesn't mean her obviously idiotic views are representative of the entire BLM movement.\n",
      "gaybros\n",
      "This is literally one woman of the Toronto BLM chapter&com; she's not even a leader or co-leader of that chapter in Toronto. She doesn't speak for what BLM stands for and if anyone says she is&com; they don't speak for it either.\n",
      "gaybros\n",
      "lol BLM is a hate group? okie dokie&nl;\n",
      "hiphopheads\n",
      "The All Lives Matter movement exists as nothing other than a distraction and silencing of the Black Lives Matter movement. Saying Black Lives Matter does not imply that all lives don't&com; but that's not the focus right now. All lives arn't being taken by police. Black lives are. \n",
      "news\n",
      "Haha&com; bring up the black lives matter movement in every instance. Where are the ALL LIVES MATTER activists? If they believe All Lives really matter they should be there&com; trying to stop the violence regardless of who's committing it. Shut the hell up. The BLM movement cant change everything overnight and they are specifically focusing on police violence against African-Americans. \n",
      "news\n",
      "Yay&com; another upvoted news article to invalidate the #BlackLivesMatter movement&com; paint all cops as saints and once again label black men as thugs who deserve to die! Woohoo!\n",
      "news\n",
      "Okay&com; yes&com; it is a hashtag. But the point I was trying to make was that it's not *just* a hashtag and it shouldn't be trivialized as *just* a hashtag because it holds alot more significance. People on reddit like OP tend to insinuate that just because #BlackLivesMatter a hashtag&com; it's **explicit** message shouldn't be perceived as important. That's all I was trying to say with my comment.. I guess I should've elaborated more...\n",
      "BlackPeopleTwitter\n",
      "Donate to 1)local bail funds for protesters 2)local activists that you vet yourself 3) street medics who are out on the front line helping protestors. BLM needs to account for all this money.\n",
      "jacksonville\n",
      "Peaceful protest ended at 5. Anything after that was between the snipers/swat escalating the situation and the agitators. &nl;&nl;Black lives matter had a very peaceful protest. Talk to y’all ppl bout the rest of that.\n",
      "jacksonville\n",
      "How so? Peaceful protest ended at 5. Anything after that was between the snipers/swat escalating the situation and the agitators. &nl;&nl;Black lives matter had a very peaceful protest. Talk to y’all ppl bout the rest of that.\n",
      "pics\n",
      "Does your white pride include:&nl;Oppression of anyone?&nl;Racism?&nl;Xenophobia?&nl;Discrimination?&nl;Hatred?&nl;Nazis? &nl;Tiki Torches as a scare tactic or weapon? &nl;&nl;If not&com; go for it. Say it loud. Have a parade. &nl;Just make sure you don't include the things listed above in that parade. &nl;&nl;See white pride is kinda like black lives matter- both statements should be 100% ok but what people do under the guise of these statements have sullied them to the point where everyone who says them are suspect. \n",
      "nba\n",
      "Ahh&com; it’s just that your username leads people to believe you hate the premise and main points of BLM. &nl;&nl;As far as I know&com; there is no main BLM group\n",
      "BlackPeopleTwitter\n",
      "Bro I met these people at a small as college. They were all nice to me&com; treated me like family. &nl;&nl;I normally don’t add people who post their political readings on Facebook but I decided why not. &nl;&nl;I added them and they were saying wildin shit “fuck those Muslims for 9/11” “obama can take his Kenyan ass back” “blm is a terrorist group” &nl;&nl;Like now I assume every person is insane\n",
      "BlackPeopleTwitter\n",
      "So&com; having actually read their statement this is a condensed reasoning why - basically they don't want any racist shitbags coming into their stores and harassing the baristas over a BLM pin&com;  when it's already a sticky situation to call the cops to resolve. &nl;&nl;It's a clickbait as fuck headline. They're in the \"right\" because they're trying to prevent altercations on their property.\n",
      "Trumpgrets\n",
      "OK&com; I think I got this. More than likely this is a person in the plains states (prob Wyoming) that is upset with the Bureau of Land Management's policy on controlling wild horse populaions.&nl;&nl;Population control has always been important for proper maintenance of wildlife and wildlands&com; and in this instance its teams of horses tearing up federal grazing land. There's sort of a money thing going on&com; because of course the grazing land is purely for the beef industry and not really *JUST* for the preservantion of the land itself. &nl;&nl;The funny thing is&com; I'm sure this person doesn't share the same preservation views on wolves&com; which are just as important to the ecosystem.&nl;&nl;Anyway&com; it's weird (yet totally predictable) this is the red line for them. Actual human babies and kids&com; mothers and fathers seeking asylum from government backed death squads? \"Fuck 'em&com; they belong in cages and to be sent back to their certain demise. Pretty pretty ponies are all that matter to me!\"&nl;&nl;More info:&nl;https://americanwildhorsecampaign.org/media/blm-%E2%80%9Ccitizen%E2%80%9D-advisory-board-recommends-killing-45000-wild-horses-burros&nl;&nl;https://abcnews.go.com/US/wild-horses-facing-slaughter-us-government-proposes-regulations/story?id=52538898\n"
     ]
    },
    {
     "name": "stdout",
     "output_type": "stream",
     "text": [
      "morbidquestions\n",
      "BLM protested over the killing of Daniel Shaver&com; a white man&com; but that doesn't fit your \"whites are the REAL victims\" agenda\n",
      "IllegalLifeProTips\n",
      "&gt; Did everyone forget BLM? Occupy?&nl;&nl;Yes&com; apparently\n",
      "MadeMeSmile\n",
      "They had a White Lives Matter protest here in Houston a few months ago. A bunch of people with rifles&com; Confederate flags&com; and \"White Rights\" signs. Of course there were no black people&com; unlike BLM protests&com; but BLM are the real racists remember\n",
      "ShittyLifeProTips\n",
      "But they're not Nazis&com; they're just misunderstood white nationalists! They're not racist no matter how many people they call \"nigger\". &nl;&nl;Now those BLM thugs&com; **they're** the ***real*** racists \n",
      "Blackfellas\n",
      "Yep&com; because it's only a counter to blm. No one says it when people says whitelivesmatter\n",
      "atheism\n",
      "Anything that has to do with BlackLivesMatter is considered anti-cop and therefore offensive: &nl;&nl;A bunch of assholes use BLM as an excuse to riot and loot? \"Blacks need to protest peacefully!\"&nl;&nl;People protest peacefully? \"These protests hold up traffic!\"&nl;&nl;One guy protests by sitting down&com; not interfering with anyone else at all? \"He hates America and needs to leave!\"&nl;&nl;There's no pleasing some people.\n",
      "atheism\n",
      "Exactly. They only say ALM in opposition to BLM. As if 'All Lives' doesn't include black lives&com; too. \n",
      "CringeAnarchy\n",
      "It's not always been violent and it's evident from the relatively peaceful protests that it's not become completely violent either. But you always have a bunch of racist assholes who don't give a shit about the core issues who just use it as an excuse to riot and \"get back\" at white people and police; the ones **leading** the movement call for peace and even the parents of those killed by police say they don't want violence&com; does that not count for anything? And that's not including the fact that there are now BLM cookouts where they fraternize with police.\n",
      "CringeAnarchy\n",
      "I see plenty of friends on my facebook timeline who are avid BLM protesters&com; and so far nearly all of them have voiced their support for families of the police who have been killed and the white victims of needless police shootings as well. I think the [80/20 rule](https://en.wikipedia.org/wiki/Pareto_principle) applies here: the vocal&com; stupid&com; racist minority of BLM are also the loudest and thus that's who you see doing all the shit that ruins the movement.\n",
      "CringeAnarchy\n",
      "Shouldn't the reverse be true also? If all lives matter&com; shouldn't BLM be included in that? I'm not excusing the dumbasses who blame white people or are racist against whites&com; just making a point.\n",
      "skeptic\n",
      "Right. If \"All Lives Matter\"&com; shouldn't that include blacks? The people saying \"All Lives Matter\" only say so in opposition to BLM posts&com; when if they really cared about all lives they'd care about black ones too. But many of them even say \"BlackLivesDontMatter\" but swear they aren't racist.\n",
      "Blackfellas\n",
      "Hell no. I can see nothing but offensive questions by white trolls under the pretense of trying to learn. I can see it now.  &nl;&nl;- So what's up with those ghetto names?&nl;- Why don't you guys tip well?&nl;- Why are you so loud?&nl;- Why can't you people swim?&nl;- If black lives matter&com; then why do you.....   &nl;&nl;&nl;Yeah. I'm not taking part in any of these discussions online because I deal with them in person too much. Most of the time&com; the white person asked it not to learn&com; but as an opener to argue or debate.  Fuck that.  \n",
      "Blackfellas\n",
      "There was a showing of a documentary put on by my local BLM chapter. The woman who was leading it referred to the audience who was mostly white&com; \"my less melinated friends\" while explaining something to the group. I cringed so hard.... I wondered how many of them were put off by being called \"less\" anything. \n",
      "therewasanattempt\n",
      "But MLK literally did comment on the treatment of black people in America was a social injustice that he also went to jail for&com; and marched for. &nl;&nl;BLM originally was about \"America&com; black people are being treated unfairly by police and the justice system&com; why does no one care?\". &nl;&nl;To which All Lives Matter and Blue Lives Matter responded with \"Black people aren't the only ones with problems. Everyone gets treated unfairly\". &nl;&nl;While the latter statement is true&com; it doesn't help or solve the original question. It's literally like if you tell someone your house burnt down or your S/O died&com; they tell you \"Well kids in Africa and Asia are dying so whatever\". &nl;&nl;Does that make more sense to you?\n"
     ]
    },
    {
     "ename": "KeyboardInterrupt",
     "evalue": "",
     "output_type": "error",
     "traceback": [
      "\u001b[0;31m---------------------------------------------------------------------------\u001b[0m",
      "\u001b[0;31mKeyboardInterrupt\u001b[0m                         Traceback (most recent call last)",
      "\u001b[0;32m<ipython-input-7-64e89dae73d4>\u001b[0m in \u001b[0;36m<module>\u001b[0;34m\u001b[0m\n\u001b[1;32m      2\u001b[0m \u001b[0;32mfor\u001b[0m \u001b[0m_\u001b[0m \u001b[0;32min\u001b[0m \u001b[0mrange\u001b[0m\u001b[0;34m(\u001b[0m\u001b[0;36m200\u001b[0m\u001b[0;34m)\u001b[0m\u001b[0;34m:\u001b[0m\u001b[0;34m\u001b[0m\u001b[0;34m\u001b[0m\u001b[0m\n\u001b[1;32m      3\u001b[0m     \u001b[0mprint_row\u001b[0m\u001b[0;34m(\u001b[0m\u001b[0mcomment_gen\u001b[0m\u001b[0;34m)\u001b[0m\u001b[0;34m\u001b[0m\u001b[0;34m\u001b[0m\u001b[0m\n\u001b[0;32m----> 4\u001b[0;31m     \u001b[0mtime\u001b[0m\u001b[0;34m.\u001b[0m\u001b[0msleep\u001b[0m\u001b[0;34m(\u001b[0m\u001b[0;36m5\u001b[0m\u001b[0;34m)\u001b[0m\u001b[0;34m\u001b[0m\u001b[0;34m\u001b[0m\u001b[0m\n\u001b[0m",
      "\u001b[0;31mKeyboardInterrupt\u001b[0m: "
     ]
    }
   ],
   "source": [
    "import time\n",
    "for _ in range(200):\n",
    "    print_row(comment_gen)\n",
    "    time.sleep(5)"
   ]
  },
  {
   "cell_type": "code",
   "execution_count": 19,
   "metadata": {},
   "outputs": [],
   "source": [
    "is_verified = df.author_flair_text.str.contains(emojis.encode(':ballot_box_with_check:'), na=False)"
   ]
  },
  {
   "cell_type": "code",
   "execution_count": 37,
   "metadata": {},
   "outputs": [],
   "source": [
    "verified_df = df.loc[is_verified, :]"
   ]
  },
  {
   "cell_type": "code",
   "execution_count": 40,
   "metadata": {},
   "outputs": [
    {
     "name": "stderr",
     "output_type": "stream",
     "text": [
      "UserWarning: `DataFrame.to_csv` defaulting to pandas implementation.\n",
      "UserWarning: Distributing <class 'pandas.core.frame.DataFrame'> object. This may take some time.\n"
     ]
    }
   ],
   "source": [
    "verified_df.loc[:, ['author', 'author_flair_text']].groupby('author').count().reset_index().to_csv('verified_bpt.csv', index=False)"
   ]
  },
  {
   "cell_type": "code",
   "execution_count": 19,
   "metadata": {},
   "outputs": [
    {
     "name": "stderr",
     "output_type": "stream",
     "text": [
      "UserWarning: `DataFrame.groupby_on_multiple_columns` defaulting to pandas implementation.\n",
      "UserWarning: Distributing <class 'pandas.core.frame.DataFrame'> object. This may take some time.\n"
     ]
    }
   ],
   "source": [
    "#leo_df = df.loc[~df['non_leo'], :].groupby('author').agg({'score': np.mean})"
   ]
  },
  {
   "cell_type": "code",
   "execution_count": 21,
   "metadata": {},
   "outputs": [],
   "source": [
    "#leo_df.to_csv('leo.csv')"
   ]
  },
  {
   "cell_type": "code",
   "execution_count": 17,
   "metadata": {},
   "outputs": [
    {
     "name": "stderr",
     "output_type": "stream",
     "text": [
      "UserWarning: Multi-column groupby is a new feature. Please report any bugs/issues to bug_reports@modin.org.\n"
     ]
    }
   ],
   "source": [
    "subs = df.loc[:, ['author', 'subreddit']].groupby(['subreddit'], as_index=False).count()"
   ]
  },
  {
   "cell_type": "code",
   "execution_count": 27,
   "metadata": {},
   "outputs": [
    {
     "name": "stderr",
     "output_type": "stream",
     "text": [
      "UserWarning: `DataFrame.to_csv` defaulting to pandas implementation.\n",
      "UserWarning: Distributing <class 'pandas.core.frame.DataFrame'> object. This may take some time.\n"
     ]
    }
   ],
   "source": [
    "pd.set_option('display.max_rows', None)\n",
    "subs.sort_values('author', ascending=False).to_csv('~/leo_subs.csv', index=False)"
   ]
  },
  {
   "cell_type": "code",
   "execution_count": 32,
   "metadata": {},
   "outputs": [
    {
     "data": {
      "text/plain": [
       "Index(['index', 'author', 'author_flair_text', 'author_fullname', 'body',\n",
       "       'created', 'created_utc', 'id', 'locked', 'parent_id', 'score',\n",
       "       'stickied', 'subreddit', 'subreddit_id', 'created_date'],\n",
       "      dtype='object')"
      ]
     },
     "execution_count": 32,
     "metadata": {},
     "output_type": "execute_result"
    }
   ],
   "source": [
    "df.columns"
   ]
  },
  {
   "cell_type": "code",
   "execution_count": 15,
   "metadata": {},
   "outputs": [],
   "source": [
    "pattern = re.compile('BlackLivesMatter|Black Lives Matter|BLM', flags=re.IGNORECASE)\n",
    "blm_comments = df.loc[df.body.str.contains(pattern, na=False), :]"
   ]
  },
  {
   "cell_type": "code",
   "execution_count": 16,
   "metadata": {},
   "outputs": [],
   "source": [
    "def comment_generator():\n",
    "    for i, row in blm_comments.iterrows():\n",
    "        yield row['subreddit'], row['body']\n",
    "\n",
    "def print_row(generator):\n",
    "    sub, body = next(generator)\n",
    "    print(sub)\n",
    "    print(body)\n",
    "\n",
    "comment_gen = comment_generator()"
   ]
  },
  {
   "cell_type": "code",
   "execution_count": 157,
   "metadata": {},
   "outputs": [
    {
     "name": "stdout",
     "output_type": "stream",
     "text": [
      "ProtectAndServe\n",
      "You *think* these are all too common... but in reality&com; the only thing that's changed in the last 3 years is what the media deems important to report.&nl;&nl;Not an excuse for these instances... just saying they're about as common as they always have been. It's media bias catering to controversy. And BLM showing up in the last 3-5 years.\n"
     ]
    }
   ],
   "source": [
    "print_row(comment_gen)"
   ]
  },
  {
   "cell_type": "code",
   "execution_count": 17,
   "metadata": {},
   "outputs": [
    {
     "name": "stdout",
     "output_type": "stream",
     "text": [
      "Bad_Cop_No_Donut\n",
      "despite 99% of what BLM says being provably false? yeah&com; you're a movement of faith.\n",
      "Bad_Cop_No_Donut\n",
      "the joke is that you believe that BS that racist thugs claim.  &nl;You treat criminals like they're better than someone simply based on their skin color.  &nl;Black lives matter&com; Black thug lives don't.\n",
      "Bad_Cop_No_Donut\n",
      "Just read the tweets&com; He's 100% in the right to be pissed off about how BLM have treated him and other cops. He did not threaten anyone&com; he was simply standing his ground&com; daring violent thugs to attack him over his race/occupation.  &nl;&nl;Stop with the lies BCND.\n",
      "Bad_Cop_No_Donut\n",
      "Get outta here with that. They're assholes who started the whole AllLivesMatter to counter black lives matter&com; but they aren't supporting terrorism. Uniformed cops are still going to be there&com; and if off duty police don't want the overtime for a pretty easy night&com; Beyonces crew will just hire more private security. \n",
      "Bad_Cop_No_Donut\n",
      "[**@Jasmyne**](https://twitter.com/Jasmyne):&nl;&gt;[2016-02-20 04:44:13 UTC](https://twitter.com/Jasmyne/status/700903759409315840)&nl;&nl;&gt;Black Lives Matter Los Angeles Trial Day Four \\- [*medium.com*](https://medium.com/@jcannick/black-lives-matter-los-angeles-trial-day-four-937d98756828#.np7y6d2ij) [#LAPD](https://twitter.com/search?q=%23LAPD) [#LosAngeles](https://twitter.com/search?q=%23LosAngeles) [#BlackTwitter](https://twitter.com/search?q=%23BlackTwitter)&nl;&nl;----&nl;&nl;[^[Mistake?]](/message/compose/?to=TweetPoster&amp;subject=Error%20Report&amp;message=/46qbj4%0A%0APlease leave above link unaltered.)&nl;[^[Suggestion]](/message/compose/?to=TweetPoster&amp;subject=Suggestion)&nl;[^[FAQ]](/r/TweetPoster/comments/13relk/)&nl;[^[Code]](https://github.com/buttscicles/TweetPoster)&nl;[^[Issues]](https://github.com/buttscicles/TweetPoster/issues)&nl;\n",
      "Bad_Cop_No_Donut\n",
      "I left off the sarcasm tag&com; but I was being sarcastic. Their making a big deal over nothing. I agree&com; there's plenty of things I don't like about BLM right now but the same distractions were raised about the black Panthers as they are doing for BLM now. Label them a hate group. Ignore the issue&com; say there's a war on cops. Try to turn people against them because the cops don't want change. This is what the war is really about. Not killing cops. But holding them accountable. \n",
      "Bad_Cop_No_Donut\n",
      "Black Lives Matter. \n",
      "Bad_Cop_No_Donut\n",
      "meh the black lives matters dindus are terrorists though.  criminals.\n",
      "Bad_Cop_No_Donut\n",
      "What a dumbass. Who gives a shit about firing for his comments how about firing him for his lack of awareness and stupidity. Did he really think no one would notice his Internet comments?&nl;&nl;Black lives matter is a piece of shit movement with horrible people. People who don't know true struggle but still want to be heard. They are a vacuum for controversy&com; why would you ever want to go down to their level and sling shit with them? &nl;&nl;Either the cop is so dumb that he didn't realize someone would notice his comments&com; or he's so full of rage and anger it clouded his judgement......why is he being reinstated ?\n",
      "Bad_Cop_No_Donut\n",
      "That really sucks. I hope he's able to hire on somewhere close to home soon. Those BLM apes are a problem in this country right now.\n",
      "Bad_Cop_No_Donut\n",
      "BLM is a hate group and black supremacy movement. The BlacKKlan and nothing more. I love watching the lazy&com; violent primates get tear gassed and arrested.\n",
      "Bad_Cop_No_Donut\n",
      "#BLM \n",
      "Bad_Cop_No_Donut\n",
      "BLM\n",
      "Bad_Cop_No_Donut\n",
      "The government goes to great lengths to hide these kind of things. In most of Europe&com; it is illegal to even categorize crime stats by demographics. In the US you can still find them though they are still not reliable as in the case annual [FBI crime stats&com;](https://www.fbi.gov/about-us/cjis/ucr/crime-in-the-u.s/2013/crime-in-the-u.s.-2013/tables/table-43) the reports include stats from many departments and agencies that do not report on demographics. I mean&com; one needs only look at crime stats to see why blacks are more likely to have encounters with police and be incarcerated. They are 15% of the population but commit 30% of the crime... People try to explain this away by saying crime stats are void b/c if police are racist they will be targeting blacks anyway but you can look at the annual [dept of Justice crime victimization surveys](http://www.bjs.gov/index.cfm?ty=dcdetail&amp;iid=245) - which includes stats consisting of victims reporting on the race of their attackers&com; and the truth becomes clear.&nl;&nl;Denying these things is the primary problem of this whole cultural Marxist Black Lives Matter agenda that refuses to acknowledge basic group differences (human biology) and behaviors&com; choosing instead to blame everything on \"white racism\" - i mean what an anti-intellectual position. No&com; there are REAL biological and epigenetic factors as to why blacks have disproportionate outcomes in society. I wont really get into those here but if you are interested&com; just read a behavioral genetics or evolutionary biology textbook. The primary correlation to societal outcomes however&com; is IQ. Consequently&com; blacks in the US have an average IQ of around 85 - which is literally in the sweet spot for those that have a high propensity for violence. (please understand that im not making a normative claim here - that is to say&com; a moral judgment - I am simply stating a positive fact.)&nl;&nl;But yeah&com; as part of the egalitarian agenda&com; there is alot of suppression of these troublesome realities and others. There are always cries of racism when groups dont have completely equal outcomes. PRO-TIP: ppl are not equal. Different groups&com; on average&com; are better at different things. Human beings are not blank slates molded by their environments. Everyone cant be an astrophysicist if only certain social conditions are met. Ultimately though&com; the burden of proof is on those accusing \"racism.\" You can find hundreds of supposed studies saying police are racist b/c blacks have higher arrest rates - but as already stated&com; yes those that commit more crimes get arrested/charged more. &nl;&nl;Like i said&com; b/c of the suppression of this type of information&com; it is notoriously hard to find objective studies on this type of stuff - especially since the obama administration. One thing that is often cited is disproportionate traffic stops&com; [but studies show](http://www.nij.gov/topics/law-enforcement/legitimacy/pages/traffic-stops.aspx)&com; again&com; blacks are more likely to violate traffic laws. Another thing often brought up is the drug war&com; with many saying that blacks and whites use drugs at the same rate but are disproportionately charged. This primarily can be attributed to the fact that blacks are&com; again&com; more likely to commit other crimes - and are charged with more drug offenses as a biproduct. There are also studies that shows blacks are more dishonest when self-reporting drug use and are more likely to use harsher substances. [Page containing links to sources](http://www.amren.com/archives/videos/race-and-drug-arrests-another-big-lie/) &nl;&nl;Another thing that is brought up is disproportionate sentencing with ppl saying blacks are sentenced more harshly for the same crimes. This can be easily explained by something these \"studies\" often leave out however: past criminal history. If you have committed more crimes in your past&com; you will receive a longer sentence. In fact&com; when comparing cases between blacks and whites involving the same crime and circumstances&com; when criminal history is roughly the same&com; a very different picture emerges. Also&com; something to consider is money - if you are relying on a public defender&com; as compared to someone who can afford a high priced attorney&com; you are probably going to get more time.&nl;&nl;Obviously racism and racist cops exist... but as to how much it actually explains in terms of the criminal justice system is marginal at best. There are also things to consider within this conversation like single-motherhood - the number one predictor of criminality. As early as the 40s and 50s&com; blacks had stronger families than whites and in some age demographics (teens and young adults)&com; they had [lower unemployment rates.](http://www.ncpa.org/pdfs/st112.pdf) So&com; are we to expect that ppl have gotten MORE racist since WW2? No&com; obviously thats absurd. The destruction of the black family which led to a dramatic increase in black crime and the drastic increase in black unemployment has one primary culprit: the welfare state. &nl;&nl;This type of egalitarian notion that blacks are in the position that they are in b/c \"white racism\" is ridiculous. No&com; there are ACTUAL factors at play. Primarily&com; biological disparities in intelligence and wefareism. The echoes of \"white privilege\" being promoted within the context of Black Lives Matter and the rest of the social justice warrior nonsense is A POLITICAL TACTIC - it is cultural Marxism - the promotion of more and more socialism on the basis of replacing traditional class enemies like \"capital owners&com; the bourgeois\" etc. with \"white heterosexual cis-gendered males.\" Political correctness is a communist tactic - the creation of a new proletariat with so-called \"victim groups\" to take on the perceived enemy of \"capitalism.\" If thats your bag&com; whatever support what you want&com; but many ppl in the police accountability movement have no idea what they are supporting when it comes to things like this.\n"
     ]
    },
    {
     "name": "stdout",
     "output_type": "stream",
     "text": [
      "Bad_Cop_No_Donut\n",
      "So you agree with the officer that Beyoncé is the cause of shots being supposedly fired by his house? &nl;&nl;He may or may not be a racist&com; but there is no proof that Beyoncé was the cause of those supposed shots.&nl;&nl;Just like there was no proof that BLM was the case of the death of the officer who killed himself. &nl;&nl;Or that BLM destroyed the truck of the people in Texas who claimed they did&com; but was later found out that they did it themselves. \n",
      "Bad_Cop_No_Donut\n",
      "This is garbage&com; just a total garbage post. An unsubstantiated so-called \"interview\" and a rant site. Where is the verifiable story of misconduct? Where is the discussion of who did what&com; and where&com; to whom? This is just general rant BLM like bullshit. I mean c'mon 'Underground Newz'?\n",
      "Bad_Cop_No_Donut\n",
      "&gt;An Ohio police officer has been put on paid leave after posting the online comment \"Love a happy ending\"&com; about a Black Lives Matter activist who killed himself.&nl;&nl;They try to make paid leave sound like a negative when in reality it's more like winning a free cruise to Mexico.\n",
      "Bad_Cop_No_Donut\n",
      "New York City is 26% black&com; so should be 26% of the arrests according to your theory. &nl;&nl;Plus this is 'people of color'&com; not blacks.  There are also 26% Hispanic people in NYC and 13% Asian.  That's 65% of people 'of color'.  Not 13%.&nl;&nl;National percentages don't mean crap when you are looking at the rates of a specific city.  They certainly don't mean crap when you are only considering one group out of many that make up 'of color'.&nl;&nl;I'm as outraged over racist bad cops as the next guy&com; but if you are going to call them out on it&com; bother to actually THINK about your argument first. Do some math if you need to&com; and try to come across as someone intelligently arguing against them.  There are folks with very valid points in the Black Lives Matter movement&com; but then I always facepalm when some idiot pretends to be a spokesman and says something stupid on camera as an argument for the movement.&nl;\n",
      "Bad_Cop_No_Donut\n",
      "Well after everyone pointing out certain things it can definitely be interpreted that she was standing up for black empowerment. However what's wrong with that? You see when I hear people say All Lives Matter in response to Black Lives Matter&com; those people aren't saying all lives matter. They are trying to distract from the issues black loves matter is trying to address. I'll admit&com; I don't agree with all their tactics&com; but there are issues that need to be fixed. Anyway&com; I thought the halftime show was good. Better then I thought it would be and was much more about love and togetherness then divisiveness. \n",
      "Bad_Cop_No_Donut\n",
      "I've concluded it's mostly white boy bias. I've battled the FB crowd to death and it's like they turn into Fox Mulder with their conspiracy theories about their hee haw heroes. No matter how many times I explain the implied *too in BLM it's always blue lives matter. No shit&com; enabler&com; it's blue lives matter *more than yours*. That's the way cops see it. &nl;\n",
      "Bad_Cop_No_Donut\n",
      "addendum: https://www.youtube.com/watch?v=BLm5kkBgKSM&nl;&nl;p.s. I know its an NRA video&com; but this particular video is factual.\n",
      "Bad_Cop_No_Donut\n",
      "I don't scream \"black lives matter\"&com; fore one. And I am an actual patriot&com; my family has been in every military conflict down to the Revolution&com; fought and bled and at times died for this country. I've never felt the need to point a gun at other Americans and scream that I should have more rights than them and never once said I'd shoot any lawman that tried to remove me. These men are treasonous criminals&com; nothing more. They wanted a handout and the Govt told them no&com; they wanted to be selfish and horde public land and they were told no&com; so they got their guns and occupied a federal&com; public building with threats of violence. Criminal scum&com; not patriot heroes. Fuck em. But hey&com; believe what the other guys that have a vested interest in making this guy look good say&com; fuck the facts. My opinion&com; you hate America so much&com; leave.\n",
      "Bad_Cop_No_Donut\n",
      "Lavoy left all weapons at the refuge. He traditionally wore his side arm on the opposite side of his body than the one he was \"reaching\" toward. By all first hand accounts&com; he had already been shot and was grasping at gunshot wounds. The car had already been shot when they were first stopped before speeding away towards the second road block. Lavoy attempted to draw officers fire way from the car so that they wouldn't shoot at the women&com; including an 18-year-old girl that was inside - even though they still opened up on the car again. This man is a great American hero and has more of a heart for liberty than you beta-males faggots screaming black lives matter EVER fucking will...\n",
      "Bad_Cop_No_Donut\n",
      "I don't know how I feel about Finicum. The video clearly shows that the dumbfuck agent that jumped out infront of his vehicle was a dumb pile of shit&com; and that he did so to escalate things. People sitting around defending that guy as though they think he jumped out because he thought he was going to get hit behind his vehicle don't seem to want to acknowledge that the vehicle Finicum was driving veers off well before that agent makes his move. &nl;&nl;My biggest issue is that too many dipshits on both sides want to make this about only their issues. These idiots&com; BLM&com; and many other movements don't realize that it comes down to accountability for police. If they would put aside the left vs right bullshit and just actually look at the issues&com; tackling them one at a time&com; things might be able to be accomplished. \n",
      "Bad_Cop_No_Donut\n",
      "All five were immediately fired and charged by Chris Blair&com; who is a great sheriff. Four resigned and one was fired after he refused to resign. Four were charged and plead guilty&com; one did not and is being indicted.&nl;&nl;The best thing you can do to make change isn't to riot or block roads for \"black lives matter\". The best thing you can do is vote for a decent human being to be in a position of power.\n",
      "Bad_Cop_No_Donut\n",
      "It's a tragedy that the only relevant social movement about police violence in the US is Black Lives Matter&com; who completely misidentify the problem as a racial one. \n",
      "Bad_Cop_No_Donut\n",
      "If these people were white&com; this would have never happened. #Blacklivesmatter \n",
      "Bad_Cop_No_Donut\n",
      "So your cause and your people should not be marginalized&com; but Black Lives Matter is purely orchestrated by George Soros as an operation to brainwash Americans into believing something other than the right-wing jerkoff fantasy that is peddled as \"patriotism\".&nl;&nl;Fuck you in particular.\n",
      "Bad_Cop_No_Donut\n",
      " * [Burns&com; Oregon Standoff .. Staged.](http://moralmatters.org/2016/01/05/burns-oregon-standoff-staged-yallqaeda-psychological-operation/)&nl;&nl; * [The Bundy Standoff in Oregon .. Contrived.](https://www.youtube.com/watch?v=BVU7rNy7zJ8)&nl;&nl; * [Militia Members Don't go to Oregon&com; You Are Being Set Up!](https://www.youtube.com/watch?v=qL3lSLarJs8)&nl;&nl; * [Oregon Standoff Set Up to Demonize the 2nd Amendment.](https://www.youtube.com/watch?v=uwjr-024rQ8) &nl;&nl;[Jews did 911.](https://www.google.com.au/search?q=Jews+did+911&amp;num=100&amp;source=lnms&amp;tbm=isch&amp;sa=X&amp;ved=0ahUKEwiF6K26scrKAhXjL6YKHdvMDBIQ_AUIBygB&amp;biw=1032&amp;bih=860)&nl;&nl;&gt;[Basic Overview of the Oregon Standoff.](http://moralmatters.org/2016/01/09/bundy-oregon-standoff-stage-luring-patriot-protesters-and-branding-them-terrorists/)&nl;&nl;&gt;January 2&com; 2016&com; in an action that has been exposed as a psychological operation&com; Patriotic Militia types took over a Government owned wildlife refuge in Oregon&com; the dozens of American and Gadsden flags at the site were props.&nl;&nl;&gt;Food and other supplies were trucked in .. Federal undercover agents on site were provocateurs&com; it has its own hashtag [#YallQaeda](https://www.google.com.au/search?q=%23YallQaeda&com;&amp;num=100&amp;source=lnms&amp;tbm=isch&amp;sa=X&amp;ved=0ahUKEwiw85TiucrKAhVlYaYKHY3EA6oQ_AUICCgC&amp;biw=1032&amp;bih=860) custom crafted to resemble a known terrorist organization.&nl;&nl;&gt;Talk shows compared it to Black Lives Matter which is a political&com; psychological&com; divide and conquer operation&com; funded by [George Soros](http://theafricanspear.com/2015/08/13/george-soros-funds-black-lives-matters-movement/) and his fellow evildoers to brainwash Americans.&nl;&nl;&gt;To make American patriots appear as terrorists so that they can be marginalized&com; and put on Government \"watch lists&com;\" Bundy&com; [Blaine Cooper](http://www.alternet.org/news-amp-politics/two-photos-worth-million-words-explaining-oregon-militia-leader-blaine-cooper) and [Pete Santilli](http://thepetesantillishow.com/) are operatives. Edit.\n"
     ]
    },
    {
     "name": "stdout",
     "output_type": "stream",
     "text": [
      "Bad_Cop_No_Donut\n",
      "Maybe BLM need to get off the HWY and let the hard working German/ Scandinavians get to work.\n",
      "Bad_Cop_No_Donut\n",
      "Sure it's heritable&com; but that doesn't mean anything without life experience to express genes to create the psychopath. Environment has just as much influence as genetics&com; and I'm certain being drunk with pride doesn't help. They've done studies that show people with genetic dispositions to psychopathy who have healthy upbringings are less violent than average.&nl;&nl;Look at all the hate rhetoric out there. KKK and the Nazis preach white pride. Black panthers&com; BLM&com; ect preach black pride. Police preach blue pride. Other things like nationalism. American pride... How many wars has that started? Feminism&com; woman pride.The one thing they all have in common is the inability to be humble and happy without elevating themselves above others.\n",
      "Bad_Cop_No_Donut\n",
      "Because BLM keep trying to hijack our issue and turn it into a race issue (which it is not)&com; AND to conflate real criminals who had to be killed with the many innocents wrongly killed by police (thus diluting the legitimacy of our issue).&nl;&nl;F___ BLM&com; and f___ Soros who funds their series of stupid tantrums.\n",
      "Bad_Cop_No_Donut\n",
      "Fuck BLM for blocking roads and stopping good&com; hardworking people from getting to work&com; or getting to their families.  &nl;&nl;They blocked I-75/85 in Atlanta&com; where I work....one of the busiest stretches of interstate in the entire country&com; effecting the commutes of thousands of people.  I personally know people whose commute to get home to their children was delayed by these assholes.&nl;&nl;Not only did they not help their cause&com; they made people angry at the organizers.&nl;&nl;&nl;&nl;Maybe he shouldn't have put it out there on social media&com; but he said what many are thinking.&nl;&nl;&nl;&nl;\n",
      "Bad_Cop_No_Donut\n",
      "Why do people take every opportunity to mention BLM and condemn their outrage? Why the hell would a movement based on black lives be up in arms about this?&nl;&nl;That's like saying Coca-Cola should be outraged when Pepsi sales are down.&nl;&nl;Why don't we just focus on the shit police behavior and stop with the race shit?\n",
      "Bad_Cop_No_Donut\n",
      "This is at least as outrageous as any case BLM have brought up in the past year.  But they won't mention it&com; because the victim wasn't black.&nl;&nl;Outrageous police behavior happens to all races.\n",
      "Bad_Cop_No_Donut\n",
      "Another one of America's finest.  The sad thing is&com; everything he said is completely true.  If you were to kill some BLM protesters&com; the police and prosecutors would let you off because they view protesters as their enemies&com; especially BLM protesters.  The only reason they might indict you is if they felt you were encroaching on their murdering territory.&nl;&nl;Notice that he isn't in trouble for his views&com; only for posting his views on social media.\n",
      "Bad_Cop_No_Donut\n",
      "Hmm.  What a quandry.  On one hand I can't stand BLM protesters and on the other I can't stand power-tripping cops.  I guess I'll just resign myself to not taking advice off of Facebook that concerns running over people or blocking traffic for \"the cause\".\n",
      "Bad_Cop_No_Donut\n",
      "&gt; My Colt 45 would love to meet him.&nl;&nl;Anywho.  I hate the state of policing in this country&com; but all the calling for violence against cops (even though by a tiny minority) just plays into their hands.  Look back to the events in Baltimore&com; where I think public opinion was beginning to sway somewhat... then two things happened -- the appalling murder of 2 NYPD officers by that psycho and the BLM movement going off the rails.  Instead of a real dialogue about reform&com; we yet again got stymied by letting masses going back to thinking cops were facing deadly challenges and general fears of blacks... &nl;&nl;\n",
      "Bad_Cop_No_Donut\n",
      "&gt; While that article is very interesting and a good read&com; the origin of police isn't all that relevant here. The history of the police and how they got started in different areas&com; really has nothing to do with the fact that today&com; the world is a different place and the reason we need police today is different. The police may have started as an answer for crowds and not crime&com; but the reason we have police today is very much for crime. Crowds too of course&com; but also crime.&nl;&nl;I disagree.  The police do not&com; in practice&com; actually prevent crimes&com; and we could probably debate all day how much of the institution&com; if any&com; is necessary to solve them.  There have been experiments that show decreasing or even removing police patrols has absolutely no effect on crime rates&com; even in high-crime neighborhoods.&nl;&nl;&gt; Today&com; and in this country&com; the police are here to serve and protect.  It's their motto.&nl;&nl;It's their *slogan*.  It's PR.  Actions speak a *hell* of a lot louder than words.&nl;&nl;&gt; They are here to keep people safe&com; first and foremost.&nl;&nl;That's their *supposed* justification.  It's what everyone has bought as the reason they are here.  But it just doesn't pan out in practice.  Taxes are evil; cops are great heroes; everything that looks like communism&com; socialism&com; and labor protection is built to steal your stuff; immigrants and poor people are free-loaders; etc.  We're piled *miles high* with propaganda that's been shoved down our throats for decades&com; at the least.  Much of it is diametrically opposite from reality.&nl;&nl;EDIT: Forgot to add the main thing I wanted to say: the history and origins of the institution are *extremely* relevant.  Looking at their behavior today&com; in light of the purpose of the institution&com; sheds a whole new light on it.  It highlights the *reason* for their violence&com; and why the whole system (the state) condones and excuses it rather than punishing it.  It gives you the background to understand why they approach protests for movements like Occupy Wallstreet and Black Lives Matters the way they do.  Please don't be too dismissive here.  We're far too quick in the U.S. to allow important history to become obscured&com; whitewashed&com; or simply ignored.  If all we hear is who&com; \"won&com;\" what wars when&com; we're missing every bit of history that's truly important to our success as a society.\n",
      "Bad_Cop_No_Donut\n",
      "If Black Lives Matter could make Trump rich(er) he would be posing with them as well. \n",
      "Bad_Cop_No_Donut\n",
      "You are Black lives matter&com; I am Blue lives matter. Your judgement is clouded by your disdain for the police. And that is very sad. Because they are the bravest people along with firefighters. I hope someday you can appreciate that. \n",
      "Bad_Cop_No_Donut\n",
      "\"Christopher Manney was fired from the Milwaukee Police Department in 2014 after shooting a black suspect to death in a case bearing some similarity to 2015 shootings that produced \"Black Lives Matter\" protests -- not fired for the shooting (adjudged \"not excessive force\") but for improper actions that preceded the shooting (not announcing a valid reason for a pat down and conducting a not-by-the-book pat down). Two days before the firing&com; he had filed a disability claim for post-traumatic stress disorder from the shooting and aftermath&com; and in November 2015 the city's Annuity and Pension Board&com; following city law&com; approved the claim. Thus&com; Manney&com; despite having been subsequently fired&com; retired with full disability&com; with basically the same take-home pay he was receiving when fired.\" -- NOTW\n",
      "Bad_Cop_No_Donut\n",
      "I understand that&com; but every time we turn this into a race issue&com; we harm the cause of fixing the real issue. If the issue is police racism&com; you get solutions to fix police racism&com; not police brutality&com; militarization&com; or lack of accountability. This BS black lives matter and all these movements to racialize police brutality are intentional distractions from real issues and intentional divisionary tactics.\n",
      "Bad_Cop_No_Donut\n",
      "it amazes (and saddens) me how quickly people will just attach to talking points. Im not saying the 'militia' is in the right at all... but the BLM is just as wrong as those occupying federal land in Oregon right now.  &nl;  &nl;people like the OP however are akin to race baiters. they seek to drum up emotions with half truths and misinformation. \n"
     ]
    },
    {
     "name": "stdout",
     "output_type": "stream",
     "text": [
      "Bad_Cop_No_Donut\n",
      "My point wasn't whether or not the information would be abused&com; although it should be noted that innocent until proven guilty goes for cops too.  Everyone's jumping on them for something that they haven't even done&com; just that they could do.  &nl;&nl;But my point was that even if they were doing everything the ACLU was afraid of&com; using these programs to scrape all publicly available data on certain groups like BLM&com; it's not illegal to do that.  There's nothing illegal about this software&com; and there's nothing illegal about the cops using it.  If they decide to harass BLM&com; that's illegal whether they used the software or not.  All the software does is save the time of having to follow and individually read each account they are monitoring.  It's the same information any of us can get if we feel like it&com; the programs just index it and make it less time consuming for the police.  &nl;&nl;This is not the same as the NSA's programs or the CISA information sharing stuff.  This is software anyone can buy.  Check out [geofeedia.com](http://geofeedia.com).  \n",
      "Bad_Cop_No_Donut\n",
      "&gt;You have no issue with Fresno Police spending time and money to search Facebook for... whatever?&nl;&nl;Nope.  None at all.  You are missing the point.  The whole reason they were trying this software out was to reduce the time and money it takes to search social media for signs of criminal activity.&nl;&nl;&gt;what do you think they'll use it for? Certainly not to monitor BLM an other dissent or to harass/intimidate/threaten&com; right? Cops wouldn't do that.&nl;&nl;So much wrong here every step of the way.  They'll use it to try to prevent crime&com; or to gather evidence for a conviction after a crime has taken place.  Maybe to monitor people on probation.  Doesn't matter&com; because \"to monitor BLM an other dissent\" is not illegal&com; and you are assuming \"harass/intimidate/threaten\" is going to happen.  Everyone is innocent until proven guilty&com; even the cops.  If you are honestly saying something is automatically bad just because of what ***might*** be done with it&com; then I'm going to have to confiscate your car&com; cutlery&com; any chemicals that might be in your house especially bleaches&com; acids&com; and anything with nitrogen&com; etc.  Because all of that stuff has a hell of a lot more destructive potential than some facebook indexing software.&nl;&nl;&gt;So fuck yeah you're getting down voted&com; your post is stupid and your ideas about privacy are ridiculous.&nl;&nl;I honestly don't think I'm the one posting stupidity here.  And check your reading comprehension&com; I've already pointed out that the three programs they tried out only index publicly available information.  There is no privacy concern here.  If you honestly think that when you post something on facebook with no privacy setting applied&com; just a normal public post&com; that it is wrong in any way for anyone to read it whether they are your best friend or your worst enemy&com; then you are a moron.  Actually&com; even if you don't think that&com; then you are still a moron for this bit:&nl;&nl;&gt;Get a clue dude&com; you're exactly like people who blame women for \"encouraging\" rapists by dressing skimpy.&nl;&nl;What the hell does anything we've discussed have to do with rapists?  &nl;&nl;You are the one who needs a clue.  All of the information that the three specific programs in this article mention&com; it's already being indexed publicly in other places.  Google does it for christ's sake.  The only thing these programs do is limit the scope to make searching easier for the police.  These programs give 0 extra abilities or information to the police that they cant get without them&com; they just make it easier and less time consuming.  \n",
      "Bad_Cop_No_Donut\n",
      "You have no issue with *Fresno Police* spending time and money to search Facebook for... whatever? They don't even have a faint notion of a goal to this&com; and what do you think they'll use it for? Certainly not to monitor BLM an other dissent or to harass/intimidate/threaten&com; right? Cops wouldn't do that.&nl;&nl;So fuck yeah you're getting down voted&com; your post is stupid and your ideas about privacy are ridiculous. You don't even know what they are going to use it for but you're ok because you don't like that people post stuff on social media. Get a clue dude&com; you're exactly like people who blame women for \"encouraging\" rapists by dressing skimpy. \n",
      "Bad_Cop_No_Donut\n",
      "&gt; We know the justice system isn't willing&com; so the people must act.&nl;&nl;There are large forces at work to hinder the people that would take affront to these fascist police state thugs. It's no mistake that the DA's ignore pretty much all the crimes the police commit.&nl;&nl;Just look at Chicago. It took a whole year to arrest the murdering cop&com; and only AFTER the video was released AGAINST the will of the CPD. This is no mistake. It's a systematic function of the police state to keep the citizens in fear of their lives.&nl;&nl;#BLACKLIVESMATTER is a response to the fear felt throughout the nation.&nl;&nl;Pigs feel more confident abusing the rights of the socio-economic poor&com; with the knowledge that they will rarely have the ability to bring justice to the corrupt cops that abuse them.\n",
      "Bad_Cop_No_Donut\n",
      "Uh... look at the statistics.  Despite \"Black Lives Matter\" the facts show that they only killed about 300 Black people and over 500 white people&com; so.....you aren't as safe as they would like you to believe. \n",
      "Bad_Cop_No_Donut\n",
      "What. The fuck are you talking about? Also im not a BLM supporter&com; I just hate shit cops and the mindless rabble that defend them regardless&com; like yourself. &nl;&nl;Thats the issue&com; obviously every single cop in the world isnt an asshole. They are a reflection of society&com; with powers that quite a bit abuse. Then the real assholes&com; like yourself&com; refuse to condemn shitheads out of some misplaced sense of \"fraternity\"&nl;&nl;If the assholes&com; like yourself&com; and actual decent cops would actually call out the bad cops...then things might change. &nl;&nl;Btw having stupid convictions doesnt make you better&com; it makes you stupid. &nl;\n",
      "Bad_Cop_No_Donut\n",
      "That's what I would expect from a BLM supporter.\n",
      "Bad_Cop_No_Donut\n",
      "Lol&com; this is why the second amendment scares police and why they desperately want it taken away. Imagine if everyone was armed during BLM marches and other acts of civil disobedience. Shit would change quick and the boys in blue would be virtually powerless to stop it.\n",
      "Bad_Cop_No_Donut\n",
      "Actually you make a good point&com; inadvertently&com; when you consider for the past 150 years; **when we Whitefolk have a cold&com; Blackfolk have the flu**&nl;&nl;The Civil Rights Act of 1964 is likely the only progress Blacks made&com; which didn't first require an increase in the preservation of Caucasoid Life.  *We need more cops like the one great NYPD Caucasoid cop who's in that infamous gif as the lone cop who didn't turn his back toward Mayor De Blasio...how fitting that he was promoted to Capt. a few months later.*&nl;&nl;For example in terms of the cold v. flu analogy I used above; look at how long cops have long long sought to exclusively massacre Negroids...yet America stayed silent and stayed hush-hush.  &nl;&nl;But now??&nl;&nl;That rogue cops hath decided to turn on their own Caucasoid brethen within the Populous and municipalities of America?  Oh&com; well of course&com; then it becomes high-time that We The People do something about these rogue cops!&nl;&nl;...&nl;&nl;&nl;&nl;**skinny:** Blackfolk have long endured what we Caucasoid citizens now are starting to experience from America's roguish racist Caucasoid cops&com; so BLM needs to endure through the nonsense of racist White citizens...and keep on keeping on!\n",
      "Bad_Cop_No_Donut\n",
      "Ha&com; like you didn't think that before. Black Lives Matter is fighting for police reform that benefits everyone. \n",
      "Bad_Cop_No_Donut\n",
      "You sound like a black supremacist with that rhetoric. You've fully convinced me that BLM is just a black KKK.\n",
      "Bad_Cop_No_Donut\n",
      "&gt;BLM would applaud this death&nl;&nl;Again&com; this type of strategic deceit you wield here; *it is more of that proof/more of that audacity&com; which leads to why those vile ISIS &amp; Al Qaeda harlequins&com; want to come destroy our great nation*.  I am appalled at this statement&com; as a great Equality-driven Caucasoid who supports BLM and all forms of Equality in Democracy.  Heil&com; Bernie Sanders! (lol)&nl;&nl;...&nl;&nl;I hope you do not exist among those pro-Fascism Caucasoids who must&com; I repeat&com; must change your sickening ways of White Supremacy!  So to find a way to include folk who we have robbed and raped&com; for centuries.&nl;&nl;**You just told a conniving lowdown&com; lie&com; on BLM** as you know full well that group does not condone violence of any way shape nor form.  You know full well that group seeks only to harness/subside the actions of Racism's rogue cops.  Who hide behind their badge and gun in their quest to commit genocide against darkskinned-Black people.&nl;&nl;But because of the social force and power of us Caucasoid's sick vile&com; White racism&com; now you give the impression here of you feeling entitled and you feeling empowered that it is your responsibility to misrepresent what BLM is about.\n"
     ]
    },
    {
     "name": "stdout",
     "output_type": "stream",
     "text": [
      "Bad_Cop_No_Donut\n",
      "Yeah but the victim has \"white privilege\" so BLM would applaud this death if you brought it to their attention.\n",
      "Bad_Cop_No_Donut\n",
      "This is why BlackLivesMatter movement is so&com; so necessary in this nation.\n",
      "Bad_Cop_No_Donut\n",
      "My point was that it is possible for people who claim to like \"small government\" to support that sort of very aggressive policing specifically because \"small government\" is one of those racist dogwhistles that is there to let the audience know that the politician supporting it favors policies that will disproportionately hurt black people.  &nl;&nl;It has very little to do with actual small government.  Just as \"law and order\" has very little to do with actual law and order.&nl;&nl;Republicans saying they support small government while actively supporting policies that increase policing (mostly of black and brown people) is the generally unspoken true meaning of that phrase.&nl;&nl;I'm not sure I actually know anyone&com; outside a few internet libertarians who I'm rather dubious about&com; who genuinely supports shrinking the government in general just on principle. Mostly you encounter people who dislike specific areas of government activity and describe reducing those specific areas (often while growing the areas they like) as \"small government\".&nl;&nl;The left has at least a tiny shred more honesty in discussions of government size in that it at least discusses cutting the parts of the government they dislike as cutting the parts of the government they dislike rather than hiding those specific programs under the general slogan of small government.&nl;&nl;I'd also find the whole obsessive focus on federal vs. state government by some people to be bizarre&com; if that weren't also one of the standard and classic examples of racist dogwhistle politics.  \"State's rights\" has pretty much always been used as the rallying cry of people opposed to individual rights for minorities.&nl;&nl;Note&com; for example&com; the (not so) subtle way Reagan kicked off his first presidential campaign: he delivered an impassioned speech defending \"state's rights\" at the site of a massacre of civil rights workers.  The location was very much not coincidental&com; Reagan's message to the voters was basically the same as Trump's (ie: black and brown people are evil scumvermin and I'll take every opportunity to oppress them that exists)&com; he just didn't say it quite so openly and instead relied on broad hints.&nl;&nl;So yeah&com; you hear a lot of stuff that seems contradictory if you don't know the long history of disguising racism in other&com; more acceptable&com; language.  That quote from Atwater is still telling about a lot of political talking&com; especially from Republicans but also from Democrats.  Basically anytime you hear someone say \"law'n'order\" it most likely is a way of saying \"fuck the niggers\".  We saw it during Ferguson&com; and generally in reference to the BLM movement.\n",
      "Bad_Cop_No_Donut\n",
      "The post in question: \"Lolz&com; these are the same people that want 15 an hr&com; the same people screaming ‘black lives matter’ it’s very clear they matter to you! I would’ve loved to have rolled up on this. If you aim right you could’ve gotten both of them on the same cartridge&com; let them ride it together!\"\n",
      "Bad_Cop_No_Donut\n",
      "They may *not* have audio&com; actually.  Don't forget all the microphones that pissed-off cops threw on top of their own police stations.  Probably not getting a lot of audio captured off of those...&nl;&nl;Of course&com; I'm sure there's a *perfectly* good explanation for why so many officers threw their microphones up there&com; just like there's a perfectly good explanation for why nobody said jack shit until the discarded microphones were discovered by accident.  After all&com; 99.9999999999999999999999% of all cops are good&com; and would have *immediately* reported such misbehavior.  This is surely just the work of two or three bad apples-- who probably got spooked as a result of the \"Ferguson Effect\"&com; so it's all really the BLM movement's fault&com; anyway.&nl;&nl;(Did I miss any squares on anybody's Police Apologist Bullshit Bingo card?)\n",
      "Bad_Cop_No_Donut\n",
      "Why don't we SCREAM to this country and MEDIA about RACE. If this was a black victim&com; we would not hear the fucking end of this&com; from the BLM bullshit and the media but its white and white so this won't even make top of cnn.com. Isn't that right? Sorry to digress&com; but this is what makes me angry.\n",
      "Bad_Cop_No_Donut\n",
      "I gotcha. Don't take my reply before personally. Wasn't meant to be. I know what you meant. It'd just utterly disgusting. Why can't these BLM folks stop with the college bs whiney stuff and band together with AllLivesMatter folks and serious let your voice be heard. This has to stop. This isn't cool&com; brave&com; heroic. It's execution after execution. State sanctioned murder. In this guy's case paralysis.  I read the link you posted yesterday. The kicker was the last sentence were the paralyzed man is being charged. Fucking horsehit.chsrge both or don't charge either. Cause both were accidents. \n",
      "Bad_Cop_No_Donut\n",
      "havent several of them shot themselves and tries to claim it was some crazy blacklivesmatter person ? bunch of psychopaths &nl;\n",
      "Bad_Cop_No_Donut\n",
      "Probably because the police officers who attended this city council meeting did so civilly and in accordance with all the rules.  They sat in silence&com; didn't disrupt the proceedings&com; and didn't refuse to leave afterwards...yet somehow they were still able to make their point and make the news.  Maybe the BLM folks should actually pay attention to this.&nl;&nl;Yeah every peaceful protest that others have ever gone to has been met by instigating riot police.  You may need an actual therapy place with a real life doctor if you believe that.  Have you ever witnessed a protest in real life or read about one outside of BCND?  \n",
      "Bad_Cop_No_Donut\n",
      "So it's the content of their message that should be censored?  They can wear uniforms if they're doing stuff you agree with&com; but they can't if they're doing stuff you don't?  Who gets to decide what is appropriate?  You?  Me?  The government?  How about we think rationally and realize that this is the EXACT reason you can't censor people in a public venue.  &nl;&nl;Showing up to a council meeting and sitting in silence is a threat?  How exactly is this a \"show of threat\"?  How else should police officers show their disapproval to a councilman when he's abused his power?  Is it appropriate for other groups to show up in large numbers to a public meeting to show opposition to a councilmember who they disagree with?  Like maybe BLM protesters?  What if the BLM people are open carrying in an open carry state?  &nl;&nl;&nl;And you still haven't told me how wearing a uniform is an abuse of power.  What power did they unfairly exercise by wearing the uniform?\n",
      "Bad_Cop_No_Donut\n",
      "Ooh an intelligent one. Glad you realized it&com; most don't.   &nl;Bold antagonistic statements are what attracts others into a debate/argument.   &nl;&nl;Sadly&com; my statement is mostly true for a majority of BLM activists I speak to&com; just so you know&com; once you realize BLM and other anti-cop groups are actually the wrong side it will be too late. You will have already given up your rights. \n",
      "Bad_Cop_No_Donut\n",
      "He said&com; \"When I see murders&com; I do not stand by... I have to call a murder a murder&com; and I have to call the murderers the murderers.\" Which in and of itself is perfectly fine and reasonable. In the context of where he said it though was the problem they had.  He was at a #BlackLivesMatter protest when he said it.  &nl;&nl;These are the people who made up and spread the lie that Mike Brown put his hands to surrender up before being shot.  The people who made a circus out of Eric Garner's death which was unfortunate but could have been completely avoided if he had just complied with the arrest instead of resisting and then when he was taken down by about 6 cops because he was so large dies of heart failure from the physical struggle that his body couldn't handle. That 'choke hold' lasted barely a second or two and people pointing to that are just full of shit. The reality is that his body shut down because it couldn't handle the physical stress of resisting arrest. Sad&com; but totally avoidable just like MB.  &nl;&nl;The reason they are calling to boycott him is that he was publicly backing a group with little to no credibility in terms of presenting their cases truthfully&com; they routinely bad mouth all cops regardless of whether you've been accused of abuse/murder or not and they certainly have cop hating assholes who call for all cops to be killed in their midst. &nl;&nl;So am I surprised that Police unions are against someone who supports the jokers thatmake up BLM?  Nope&com; not at all.\n"
     ]
    },
    {
     "name": "stdout",
     "output_type": "stream",
     "text": [
      "Bad_Cop_No_Donut\n",
      "I think Tarantino's films are some of the worst garbage to ever make it on the screen (I know I'm in the minority). But I've gained a bit of respect for him over his comments on BLM. They were the mildest denouncements of police brutality&com; yet the fans of the police state are reacting to them like rabid dogs.\n",
      "Bad_Cop_No_Donut\n",
      "Funny everyday on twitter #blacklivesmatter  police brutality they are killing people. #alllivesmatter your just racist cops are killing thugs.\n",
      "Bad_Cop_No_Donut\n",
      "Some of the most well-known BLM activists on Twitter talked at great length about it.\n",
      "Bad_Cop_No_Donut\n",
      "I haven't seen a single BLM person talk about it and I was one of the people that posted about Zachary Hammond. In fact&com; if you've read anything from the guy I posted elsewhere in the thread&com; many BLM people get upset when you mention non-POC  victims.\n",
      "Bad_Cop_No_Donut\n",
      "To be honest it has pretty much ONLY been Black Lives Matter activists and this sub that I've seen talking about Zachary Hammond and Jeremy Mardis. That \"all lives matter\" crowd quieted down real quick. Its not Black Lives. Matter activists' job to pick up the slack for every death.\n",
      "Bad_Cop_No_Donut\n",
      "Look&com; it's hard to talk about race disparity when so many people in this country - black&com; white or otherwise - are hurting bad. White privilege is a hard concept to grasp&com; or even want to grasp&com; when we're all getting fucked somewhere and no one but a tiny minority feels \"privileged\" to be in the position they're in. I get that.&nl;&nl;But Black Lives Matter&com; or any reasoned recognition of racial injustice in this country&com; would *never* suggest that shit only happens to black people. Or that it never happens to white people. No one is saying that.&nl;&nl;What *is* being said&com; though&com; is that black people face injustices across the board - in police interaction&com; in the justice system&com; in employment - at a staggeringly disproportionate rate. It really sucks what you've had to go through&com; and as a poor white girl who grew up in a really shitty area&com; I have my own share of problems to bitch about. Trust me on that one. But that doesn't change the fact that people are statistically more likely to go through the same if they are black.\n",
      "Bad_Cop_No_Donut\n",
      "When I hear statements like this&com; I tune out to anything good that people like you or BLM could say.&nl;&nl;I'm a suburban white male who had his life RUINED because of police and this fucking INJUSTICE system we have in this country. &nl;&nl;I have 8 felony convictions and&com; years later&com; I'm a successful entrepreneur and have put my life together. The shit you people say about how this is a problem that only affects black America makes me sick. It's divisive and is factually incorrect.&nl;&nl;We have a police union problem. We gave a police accountability problem. We have a militarized&com; federalized police presence anywhere we go. People no longer know what privacy is. Homes are raided&com; lives are ruined&com; and life savings are stolen by the state all in the name of a plant. Go on and tell me how this only affects black Americans&com; please.\n",
      "Bad_Cop_No_Donut\n",
      "Sure&com; I guess.  Nothing profound&com; but I regularly share stories and statistics that I see in this sub and elsewhere with the people I know.  Minor shit&com; but despite all the attention these issues *seem* to get in the media&com; the story just doesn't get gelled very well in the eyes of most people IMHO.  Folks see the worst of the worst videos&com; and then take solace in the *bad apple* narrative.&nl;&nl;I've sent the links to the DoJ reports on Albuquerque and Ferguson so many god damned times&com; hopefully a few folks have at least read the intros....&nl;&nl;At the end of the day popular opinion needs to swing further in a manner that forces political intervention.  But each time momentum starts to happen&com; seems like it gets derailed --- attacking the messengers of the BLM movement not the message&com; or some lunatic kills an LEO... It's like the campaigns for political reform or better income equality&com; they get stuck in a morass of related issues and do not run along party lines -- so any momentum towards reform can easily get bogged down.&nl;&nl;Hard to say what more can be done to get the public's attention when you see stories like what happened in Chicago...  &nl;&nl;But in any event&com; calling for police officers to be killed hurts the cause.  We need the support of folks who are on the fence&com; and it clearly alienates them.  Let alone being absolutely horrendously wrong and hypocritical... &nl;&nl;Say this dude in the video magically somehow killed this cop... Would that be *illegal*&com; no.  But what would that accomplish?  They're not going to run out of unaccountable thuggish cops until the system is reformed... as it is this video speaks infinitely better about the problems we have.\n",
      "Bad_Cop_No_Donut\n",
      "So in the same week we have both a black cop and a black BLM activist discovered to be forging racist propaganda. Oh the irony!   http://www.nj.com/union/index.ssf/2015/12/arrest_made_in_kean_twitter_threat.html\n",
      "Bad_Cop_No_Donut\n",
      "I think nuking the hate subs caused the most petulant&com; angry childish redditors to go into their death throes of garbage speech but in news subs instead. Or impressionable sheltered white people are finding their implicitly racist tendencies supported on the webz&com; articles about BLM etc\n",
      "Bad_Cop_No_Donut\n",
      "Organize behind a movement that has some actual mechanics for change. BLM is all we got protesting the police and everyone knows that movement is garbage and doesn't have any central tenements or mechanics of change that they are mobilizing about. They know they want a change&com; but don't know how to get it. &nl;&nl;We as a population need to realize that serious lines have been crossed in regards to our freedoms and we need to rage against it. \n",
      "Bad_Cop_No_Donut\n",
      "That's why BLM is so important&com; whether people believe it or not it forces them to confront the issue over and over and over until they start to question themselves. \n",
      "Bad_Cop_No_Donut\n",
      "They were identified as White Supremacists by the \"BlackLivesMatter\" signs they had&com; and the asian skin tone of one of the evil racists.\n",
      "Bad_Cop_No_Donut\n",
      "Shhhh&com; dont you dare stop the racist BLM hate train. \n",
      "Bad_Cop_No_Donut\n",
      "Absolutely. I agree 100%. But again&com; until the upstanding citizens in the black community start turning in their bad apples for being just that it really won't matter. Cops absolutely treat black people (men especially) differently. But yes&com; cops are killing everybody out here. I still say that BLM needs to attack this issue on both fronts equally and won't be taken seriously until they do. \n",
      "Bad_Cop_No_Donut\n",
      "Black lives matter and gang violence are two separate issues.&nl;&nl;It's like apples and oranges are two separate things only related by the fact that they are both fruit.&nl;&nl;BLM is addressing the disproportionate amount of blacks targeted by law enforcement. There's no real argument here -- this happens if you want to admit it or not.&nl;&nl;It's clear that you lack empathy&com; but I guess you don't know what you don't know.&nl;&nl;I can't blame you for that.&nl;&nl;At the end of the day&com; we should all wake up and realize that police are killing everyone regardless of color.&nl;&nl;So if it's Black Lives Matter or All Lives Matter -- who cares?&nl;&nl;Certainly not the police.\n",
      "Bad_Cop_No_Donut\n",
      "I agree. Like I said&com; could and should have been taken down in a non lethal manner. I just don't understand the protest double speak attention whoring for criminals. &nl;&nl;A gangbangers 9 year old kid was executed behind his grandmothers home by a rival gang in Chicago less than a month ago. &nl;&nl;Where was #BlackLivesMatter then? Where was Sharpton? Where was Jesse? Where was the outrage? No where. The entire BLM \"movement\" is a goddamn fucking moneygrubbing&com; golddigging&com; sensationalist farce until they start policing their own community. &nl;&nl;Downvotes are welcome. The truth always receives them. \n",
      "Bad_Cop_No_Donut\n",
      "So now you're a dog psychologist? You're doing the same thing as the op did e.g. Armed intruders&com; \"legal\" intruders. Reckon this guy roughed up your old ma or your sister or anybody&com; really&com; that you had a connection to. Would they be intruders or just civil servants executing a warrant in an effort to take a violent sociopath of the streets? &nl;&nl;All this video shows is a warrant in progress and a dog that died off camera. Sure&com; there's plenty of evidence that cops kill with impunity. There's also plenty of evidence that terriers are aggressive and people get bit sometimes. Much like the BLM movement&com; you have to pick your battles better. \n"
     ]
    },
    {
     "name": "stdout",
     "output_type": "stream",
     "text": [
      "Bad_Cop_No_Donut\n",
      "Escalation of force is EXACTLY what needs to happen.  You're acting like domestic terrorism is a new term or a new phenomenon.  Did you not know about the 16th Street Baptist Church bombing?  Are you unaware of the multiple attempts on MLK's life?  Are you unaware of the actions of the Nation of Islam&com; or the tenets around the founding the Black Panther Party?&nl;&nl;The reality is that there are 765&com;000 cops in the US.  There are nearly 400 million people in the US.  If 1% of the population were to decide they've had enough&com; law enforcement is outmanned 4 to 1.  &nl;&nl;The reality is that there has never existed a movement to reform any society that was accomplished without blood on all sides.  The idea that you can elicit societal change without bloodshed is naive and childish.  Hell&com; even Ghandi was only successful because there were hundreds of thousands of Indians who were NOT engaging in satyagraha and were more than willing to bleed the British until they left.  Non-violent approaches to social change are only effective insofar as they provide a more acceptable face for the authorities to bargain with.  Without the threat of violent resistance&com; without the \"or else\"&com; there is no motivation for any authority to bargain with or placate an organization committed to nonviolence.  No one in power is afraid of yelling people with signs.  People need to show up to these protests armed and organized.  Do you think NYPD would have been able to clear out occupy protesters if the protesters were armed with shotguns and semi-automatic rifles?  &nl;&nl;Did you see BLM or the FBI or even the ATF touch anyone at the Clive Bundy ranch?  No&com; because there were hundreds of people with guns there.  And thats what needs to happen when people protest police brutality.  Law Enforcement is better behaved&com; respects people's rights more&com; and is more inclined to bend to the wishes of protesters when the protesters are willing and able to shoot back.  \n",
      "Bad_Cop_No_Donut\n",
      "# blacklivesmatter\n",
      "Bad_Cop_No_Donut\n",
      "This problem is much broader than /r/news.  All the subreddits listed [here](https://www.reddit.com/r/SRSsucks/comments/3s9hzo/list_of_subreddits_openly_contaminated_by_srs/) have been taken over by politically correct SJWs&com; and will ban commenters who disagree.&nl;&nl;The connection to police misbehavior is that SJWs insist on pretending that mistreatment by cops happens only to certain minority groups.  That is not true.  It is everybody's issue&com; and needs to be fought as everybody's issue.  (And the BLM movement further distorts things by lumping criminals who earned what they got in with the innocent.  They know better perfectly well -- but are being paid by George Soros to destabilize our country for political purposes.)\n",
      "Bad_Cop_No_Donut\n",
      "Guess that black mayor and city council haven't got the message that black lives matter yet...\n",
      "Bad_Cop_No_Donut\n",
      "I wonder how many people on reddit and Fox knows blamed this shooting and threat against an officer on black lives matter like the others that happened. &nl;&nl;It's great I hope more idoit police officers do this stupid shit. \n",
      "Bad_Cop_No_Donut\n",
      "I would like to do a case count. I was thinking this one makes the fifth in the last few months. Mentioned in the article is:&nl;&nl;Sgt. David Houser&nl;&nl;Lt. Charles Joseph Gliniewicz&nl;&nl;Sgt. William Dwyer&nl;&nl;Officer Kevin Lord&nl;&nl;Also not included in the above story:&nl;&nl;[Officer Bryan Johnson](http://www.masslive.com/news/index.ssf/2015/09/millis_police_account_of_gun_attack_fabricated.html)&nl;&nl;There was Scott Lattin&com; a disabled veteran who wasn't a cop but a police brutality defender that faked vandalism of his own truck to look like it was done by a Black Lives Matter activist.&nl;&nl;&nl;Can anybody find any more cases?\n",
      "Bad_Cop_No_Donut\n",
      "1) It's not a blind spot&com; it's just not the mission of the movement.  The BLM protests are about the disproportionate rates of killing and harsh policing that are leveled against black Americans.  It is entirely appropriate to point out an area where you are treated unfairly at a disproportionate rate.  The idea that BLM has to account for everyone is a requirement that seems to only be leveled against this group; nobody complains that a group trying to save the rainforest isn't giving sufficient attention to the loss of boreal forests.&nl;&nl;2) Is it a blind spot at all?  Do you actually follow any BLM supporters&com; or just read about them second-hand from Reddit?  Because you'll find that BLM supporters often pick up and publicize issues of unjustified police violence against non-blacks. \n",
      "Bad_Cop_No_Donut\n",
      "This is the blind spot of BLM.  There should be a broad protest against police brutality and the feudal nature of local courts. BLM takes all the attention of peoples rage and the media against the police state and focused it on one race. if you are Hispanic&com; Asian&com; Native American or white  and are killed or beaten by police there is no Hashtag&com; t shirts or protest.....just a shrug and go looking for the next safe space to complain against micro aggression.\n",
      "Bad_Cop_No_Donut\n",
      "9:00 a.m. – 10:45 a.m. &nl;Breakfast/Closing Plenary&nl;Higher Education in the Wake of the  &nl;Ferguson Movement&nl;N. Hemisphere BCD &nl;From #blacklivesmatter&com; to #notonemore&com; we are experiencing &nl;a resurgence of the civil rights movement. But as we see &nl;tens of thousands of people marching in the streets&com; how is &nl;this movement being played out on our college campuses? &nl;What role does higher education play in the current social &nl;justice movement? How are campuses creating environments &nl;supportive of diverse movements&com; voices&com; students and faculty? &nl;Are higher education institutions cultivating their student &nl;activists? If so&com; then how are those student activists being &nl;cultivated in these potential organizing cultural environments?&nl; &nl;http://www.aft.org/sites/default/files/wysiwyg/program_higheredconf15.pdf  &nl;21. Opening speakers at the assembly included past NEA president Mary Hatwood Futrell&com; one of the union's most beloved leaders&com; now the top officer of Education International&com; the result of the merger of the international bodies of NEA and AFT in 1993--a harbinger of the 1998 proposal. Futrell made it simple. \"I saw the light. Merger is for the children. Albert Shanker and I hugged one another. Now we have clout in a united organization with the IMF and the World Bank. My friends&com; and I call you my friends because you are&com; the children need us . . . tomorrow you will vote on the kind of America you want children to have. Vote for unity with your heart.\"&nl;&nl;  A student NEA leader from Illinois said&com; \"The pressures and tactics being used to whip members into line threaten the integrity of the organization. We wouldn't give up our democracy if we were just voting internally. Why should we do that with a merger?\" Mary Washington&com; the African-American president of the Louisiana NEA&com; stated&com; \"We fear our beliefs are being diminished. We have been led to believe that an independent NEA is a good thing&com; that the little guy should have a right to democratic participation . . . this set of principles makes a mockery of our core beliefs. This is unacceptable&com; unacceptable&com; unacceptable!\"&nl;&nl;     24. Bob Gilchris ran for the national executive committee solely on a \"No to Merger\" platform. He got 45% of the vote. His \"it's simple&com; vote no!\" drew loud applause.&nl;&nl;     25. Illinois' Haisman said&com; \"We reject this document only after careful analysis. We are willing to work with the AFT&com; but we don't want to become the AFT. We don't know the details of the agreement&com; but details help preserve our rights&com; our democracy. This flawed document will not help us focus on education. It creates a top-down structure that reduces our key leaders to spectators.\"&nl;&nl;     &nl;&nl;     28. . \"Look&com; I would have stuck to what I think are the facts. Unity with the AFT makes sense for these reasons: we are under attack from an organized right-wing movement that wants to de-fund public education. We need to be together. We have bargained about this with the AFT for more than five years. We got some. They got some. We can live with this agreement. We can do it now because the time is ripe. Why wait? Some states are about to merge anyway. Why isolate them? We have locals that are already merged&com; and they are here supporting the merger. They have experience with this. Who else does? The AFL is the AFL. Good and bad&com; not the big bad wolf. Our leaders can easily hold their own with them&com; if they have to. I wish I could have talked. This is a shame. Honest people on both sides are set up as crooks.\"&nl;&nl;     29. Silence from some quarters was interpreted as a powerful message. A Florida delegate said&com; \"Bob Chase's campaign manager for his presidency was one of the most prominent African-American leaders in the NEA. She was also ex-president Geiger's campaign manager. When she talks&com; we all listen. She hasn't said a thing.\"&nl;&nl;     30. Executive Director Don Cameron&com; originally a teacher from Michigan&com; compared opposition to the merger to opposition to the American Revolution. Cameron then invoked the legendary Dr. Seuss who lent his name to the \"Read Across America\" literacy projects. Young NEA members flooded the floor distributing tall red and white stovepipe Dr. Seuss hats. The nearly 10&com;000 delegates to the NEA assembly&com; casting the most significant ballots in the last forty years of the labor movement&com; voted wearing the accouterments of the beloved Dr. Seuss. While they voted&com; NEA showed a promotional film on universal human rights on huge screens stationed around the auditorium. When the film came to a group of children praising the secret ballot&com; the Illinois delegation broke into raucous cheers.&nl;&nl;     31. Even before they arrived&com; delegates were deluged with pro-merger material: a personal letter from Chase&com; a series of pro-merger articles and ads in the prestigious Education Week newspaper&com; support from professors who linked the merger to Chase's \"new unionism&com;\" visits to most states from top NEA leaders. In late January 1998&com; Executive Director Cameron circulated a letter threatening staff who were not on board with the program&com; \"There is no room on the boat of new unionism and new culture for old culture stowaways. You can ride&com; but you can't hide.\" And in May he said&com; \"NEA is NOT neutral on this issue. Therefore&com; neither is NEA staff. NEA strongly supports&com; and is actively advocating for&com; the approval of the Principles of Unity by the delegates to the 1998 NEA Representative assembly. So&com; therefore&com; is the staff.\" This form of direction to staff is unusual inside the NEA Family. Nevertheless&com; staff opposition to the merger was often vocal. Staff members&com; usually former teachers&com; raised many of the same objections that came from the rank and file&com; and they added their own concerns about their wages and pensions should an affiliation with the AFL proceed.&nl;&nl;     32. More than 40 percent of the delegates were attending their first or second NEA assembly. The line-up of pro-merger past presidents meant nothing to them. One young delegate referred to the renowned Futrell as \"that woman from some Educational International; what's up with that?\" Pro-merger leaders were provided with lists of first-time delegates and told to contact them&com; one-to-one&com; in their hotel rooms before the vote. The room lists were often incorrect&com; the new delegates gone&com; out on the town. Most last-minute contacts were never made.&nl;&nl;     33. Before the vote&com; people very intimate with Chase and Van Roekel predicted they would lose&com; 55-45&com; an estimate remarkably close to the actual vote. The press reported the massive rebuff as a stunning defeat. The New York Times ran the coverage at the top of the front page. Chase was reported as appearing shocked in a press conference immediately following the vote&com; although he smiled on stage when the vote was announced.&nl;&nl;     34. It is hard to believe the leaders were shocked. While state presidents surely mis-estimated their ability to deliver (the president from Florida assured Chase a 90% yes vote&com; while my survey of that delegation indicated a no vote of around at least 35%)&com; the Wall Street Journal and Education Week had reported an uphill climb for the merger supporters&com; with a state-by-state analysis. Moreover&com; Chase's home state of Connecticut openly voted against the merger prior to the convention&com; as did Weaver's home state of Illinois. Michigan&com; which has produced so many NEA leaders that key players are known inside as the \"Michigan Mafia&com;\" stood solid in opposition&com; as did most of the huge Texas delegation. California formally supported the merger&com; but many California delegates reported to me that they would vote to reject. One president said to Weaver&com; just before the vote&com; \"I have several hundred delegates here. I have been telling them to think for themselves for years. Now you want me to muscle them--overnight?\" Leadership actions following the rejection would indicate they were more than surprised. Perhaps they believed they had prepared for so long that nothing could truly go awry.&nl;&nl;     35. NEA president Bob Chase&com; who has distinguished himself in his fervent support for gay and lesbian rights inside the NEA&com; was on the merger hunt for quite some time&com; as were many other top NEA officials. Indeed&com; the AFT has almost always been ready to talk merger. NEA claims a merger with the AFT in New York was sabotaged by federation efforts to simply subsume the NEA membership in the late 1960's. A similar scenario followed in Florida in the early 1970's. In 1973 and again in 1993&com; NEA delegates passed New Business Items insisting that any discussions with the AFT had to take place on the grounds that there would be:&nl;&nl;    No affiliation with the AFL-CIO.&nl;    Guaranteed minority group representation.&nl;    Guarantees of secret balloting.&nl;&nl;     36. The 1993 NBI included language that promised any united organization could take positions on questions \"that are in the best interests of our members.\" This indicates well-founded fears that the private sector domination within the AFL-CIO would cause divisions over raising and distributing public funds. The members wanted to be able to lobby for taxes for public school--above potential AFSCME member claims for mental health expenditures&com; for example&com; or cries for tax cuts from the Carpenters Union. The 2.3 million members of the NEA wanted to be sure that their voice would be loud.  &nl;http://clogic.eserver.org/2-1/gibson.html  &nl;''Teachers Unions and the War Within&nl;&com; Making sense of the conflict''  &nl;http://educationnext.org/teachers-unions-war-within/  &nl;None of the butthurt ever go to teachers union webpages to SEE with the EYES&com; what is REALLY happening.  &nl;SEEING is not rumor filled assumption.  &nl;Ask yourself how many details you know for sure about what the NEA/AFT&com; biggest union in the world merger means&com; and why they are all voted in to supporting Common Core&com; like a monopoly that ignores parental input. &nl;\n"
     ]
    },
    {
     "name": "stdout",
     "output_type": "stream",
     "text": [
      "Bad_Cop_No_Donut\n",
      "Sorry but since he's not black there won't be any national media coverage&com; protests or riots. Remember guys&com; don't get killed unless you're black because in America #Blacklivesmatter.\n",
      "Bad_Cop_No_Donut\n",
      "Figured I'd see a rant like this on Black Lives Matter or Mizzou or something else of equal uselessness. This sub just brings to light the atrocities police inflict on a daily basis. Would you like if a cop tossed a grenade into your toddlers crib and scarred him for life only to have them says its the kids fault for not moving? Or how about one of the most recent ones where the father of 3 told the cops they can't come in without a warrant and they proceeded to kick the door in and kill him? &nl;&nl;I'm not a college kid as you so put it. I'm a father of two and pull in almost 6 figures a year in property management. I go to work and I go home. Problem is in the period of the 2 hours a day I'm in the car I've been pulled over quite a few times. Now I'm not the perfect driver ofcourse&com; no one is&com; but a cop was going the opposite direction of me in the middle of the night and had no lights on at all. I gave him a quick flash to let him know and sure enough the lights come on and he flips a bitch to pull me over. Just last week there were 6 or so cops sitting at the corner of my street hiding in the bushes and pulling over every car going just over the speed limit. Now here's the problem my corner is on the bottom of a bridge so without slamming your brakes gravity alone speeds you up a little. I watched as they pulled over at least 10 cars within an hour before they decided to pack up and move on. Its all about how much money they can extort from you and how much control they believe they have.&nl;&nl;If you sit there and believe the police are innocent you must be the college kid. And now don't get me completely wrong. I don't believe every single cop is bad. But the good ones sure don't speak up when they should.  \n",
      "Bad_Cop_No_Donut\n",
      "Where are the #alllivesmatter people protesting? They only seem to show up when someone brings up #blacklivesmatter.\n",
      "Bad_Cop_No_Donut\n",
      "BlackLivesMatter is comparable to ISIS or the KKK? Get a clue.\n",
      "Bad_Cop_No_Donut\n",
      "Yes.&nl;&nl;I'm sure you don't have that attitude toward blacks who don't support #BlackLivesMatter or Muslims who don't support ISIS or whites who don't support the KKK or anyone else who can be lumped in with any group of shitty people.&nl;&nl;Hating all cops because some cops are pieces of shit is just as retarded as hating any entire group of people based on the actions of a few of them.&nl;&nl;It's just plain fucking ignorant.\n",
      "Bad_Cop_No_Donut\n",
      "He's white  #blacklivesmatter\n",
      "Bad_Cop_No_Donut\n",
      "I don't buy that at all.  Most of the \"BLM\" movement's \"victims\" forced their opponents to kill them&com; as both Martin and Brown did.  Un-called-for cop violence is not primarily a black people's problem.  It affects all races equally.\n",
      "Bad_Cop_No_Donut\n",
      "You and the other guy are getting downvoted for saying it but I do think it's true. There's a distinct narrative in the mainstream media that minorities are specifically being targeted for these violent assaults and murders when I think it's pretty clear that that's not always the case. Many of the people who are fighting for the reform of this kind of thing are unwilling to acknowledge that is isn't always racially motivated. It confuses the narrative. Unfortunately to some people only #blacklivesmatter.\n",
      "Bad_Cop_No_Donut\n",
      "Yeah&com; OP should have said \"war on police\" in place of BLM but he's not wrong that BLM has been used as an example of the \"war on police\". &nl;\n",
      "Bad_Cop_No_Donut\n",
      "Who gives a fuck about BLM? The point is the \"war on police\" narrative and BLM is just one aspect of that. \n",
      "Bad_Cop_No_Donut\n",
      "It's not just BLM that's being implicated by law enforcement agencies&com; unions and the media. It's YouTube&com; cellphones&com; and anyone who considers their personal rights to be important and necessary. It's the so called \"war on police\" &nl;&nl;Right now&com; law enforcement agencies and unions have officially made it clear that anyone and anything that questions the behavior of police officers and their departments will be deemed the enemy. They've presented this \"war on police\" narrative to excuse their behavior. It isn't happening. What's happening is that the police are being caught victimizing people on camera and obviously officers aren't happy with it. &nl;&nl;Don't act like this case wasn't lauded by those who claim that LEOs are being unfairly targeted because that's just not true. Since the truth has come out I've even seen law enforcement lamenting on their public support for this guy and the narrative that police are increasingly being targeted because of their low popularity. Trust me&com; I spend a lot of time following this shit. Probably too much time. \n",
      "Bad_Cop_No_Donut\n",
      "No&com; the narrative has been that BLM and other anti-police activist groups have caused an increase in violence targeting police officers. Of course that's absolute garbage&com; but to the uninformed it makes sense. \n",
      "Bad_Cop_No_Donut\n",
      "But they *did* use black lives matter as a pretense to cover their crimes. &nl;&nl;You're missing the point. They used the current political climate and law enforcement sentiment to cover their crimes. Law enforcement agencies&com; unions&com; and the media completely bought their stories and continued with the false narrative that LEOs were being targeted around the country. People still believe that garbage even though this has been the second safest year for police officers since records were first maintained. &nl;&nl;What are you trying to do here? The LEOs involved indisputably used these events as an opportunity to cover their crimes. The fact that they personally benefited from these crimes doesn't change what they did. They were playing to the false narrative that LEOs were being targeted by anti-police groups. That never happened. \n",
      "Bad_Cop_No_Donut\n",
      "The title is still incorrect... THEY did not do what they did to gain hate for BLM. That is all i'm talking about&com; nobody else.\n",
      "Bad_Cop_No_Donut\n",
      "&gt;Gliniewicz didn't do it to manufacture outrage against BLM&com; he did it to cover up the tracks of him being a scumbag. In fact&com; it seems all of the stories where of them doing it for personal gain&com; and not explicitly blaming BLM. The stories where twisted by others to be against BLM. &nl;&nl;&gt;I don't support those douches&com; but saying they all did it to instigate more suspicion towards BLM is incorrect.  &nl;&nl;But the end effect was the same. It created this false narrative that LEOs were being targeted around the country and it's an outright lie to deny that police departments spun it that way. So the title isn't misleading. Numerous police forces around the country used these cases to lie to the American public. \n",
      "Bad_Cop_No_Donut\n",
      "Agreed. I live near the Glinowiecz thing&com; he had apparently been stealing from the Police Explorer program for like seven years. They are investigating his wife and oldest son. &nl;&nl;He said on the police radio that he was pursuing three males&com; two black and one white in a remote area by an abandoned factory or plant surrounded by lakes and shit. Fucker offed himself as a last attempt to shield his family and maybe keep the money&com; I don't know. The police investigation looked like it was headed that way if the coroner didn't release info to the press too. Everyone wants to avoid a scandal and this guy figuratively fell on his sword. But it definitely wasn't to enflame the BLM bogeyman.\n",
      "Bad_Cop_No_Donut\n",
      "I agree misleading title is misleading. &nl;&nl;The stories were grabbed by media as justification for being anti-BLM. \n"
     ]
    },
    {
     "ename": "KeyboardInterrupt",
     "evalue": "",
     "output_type": "error",
     "traceback": [
      "\u001b[0;31m---------------------------------------------------------------------------\u001b[0m",
      "\u001b[0;31mKeyboardInterrupt\u001b[0m                         Traceback (most recent call last)",
      "\u001b[0;32m<ipython-input-17-0bf07d53e06e>\u001b[0m in \u001b[0;36m<module>\u001b[0;34m\u001b[0m\n\u001b[1;32m      1\u001b[0m \u001b[0;32mimport\u001b[0m \u001b[0mtime\u001b[0m\u001b[0;34m\u001b[0m\u001b[0;34m\u001b[0m\u001b[0m\n\u001b[1;32m      2\u001b[0m \u001b[0;32mfor\u001b[0m \u001b[0m_\u001b[0m \u001b[0;32min\u001b[0m \u001b[0mrange\u001b[0m\u001b[0;34m(\u001b[0m\u001b[0;36m200\u001b[0m\u001b[0;34m)\u001b[0m\u001b[0;34m:\u001b[0m\u001b[0;34m\u001b[0m\u001b[0;34m\u001b[0m\u001b[0m\n\u001b[0;32m----> 3\u001b[0;31m     \u001b[0mprint_row\u001b[0m\u001b[0;34m(\u001b[0m\u001b[0mcomment_gen\u001b[0m\u001b[0;34m)\u001b[0m\u001b[0;34m\u001b[0m\u001b[0;34m\u001b[0m\u001b[0m\n\u001b[0m\u001b[1;32m      4\u001b[0m     \u001b[0mtime\u001b[0m\u001b[0;34m.\u001b[0m\u001b[0msleep\u001b[0m\u001b[0;34m(\u001b[0m\u001b[0;36m3\u001b[0m\u001b[0;34m)\u001b[0m\u001b[0;34m\u001b[0m\u001b[0;34m\u001b[0m\u001b[0m\n",
      "\u001b[0;32m<ipython-input-16-5deade7a8a98>\u001b[0m in \u001b[0;36mprint_row\u001b[0;34m(generator)\u001b[0m\n\u001b[1;32m      4\u001b[0m \u001b[0;34m\u001b[0m\u001b[0m\n\u001b[1;32m      5\u001b[0m \u001b[0;32mdef\u001b[0m \u001b[0mprint_row\u001b[0m\u001b[0;34m(\u001b[0m\u001b[0mgenerator\u001b[0m\u001b[0;34m)\u001b[0m\u001b[0;34m:\u001b[0m\u001b[0;34m\u001b[0m\u001b[0;34m\u001b[0m\u001b[0m\n\u001b[0;32m----> 6\u001b[0;31m     \u001b[0msub\u001b[0m\u001b[0;34m,\u001b[0m \u001b[0mbody\u001b[0m \u001b[0;34m=\u001b[0m \u001b[0mnext\u001b[0m\u001b[0;34m(\u001b[0m\u001b[0mgenerator\u001b[0m\u001b[0;34m)\u001b[0m\u001b[0;34m\u001b[0m\u001b[0;34m\u001b[0m\u001b[0m\n\u001b[0m\u001b[1;32m      7\u001b[0m     \u001b[0mprint\u001b[0m\u001b[0;34m(\u001b[0m\u001b[0msub\u001b[0m\u001b[0;34m)\u001b[0m\u001b[0;34m\u001b[0m\u001b[0;34m\u001b[0m\u001b[0m\n\u001b[1;32m      8\u001b[0m     \u001b[0mprint\u001b[0m\u001b[0;34m(\u001b[0m\u001b[0mbody\u001b[0m\u001b[0;34m)\u001b[0m\u001b[0;34m\u001b[0m\u001b[0;34m\u001b[0m\u001b[0m\n",
      "\u001b[0;32m<ipython-input-16-5deade7a8a98>\u001b[0m in \u001b[0;36mcomment_generator\u001b[0;34m()\u001b[0m\n\u001b[1;32m      1\u001b[0m \u001b[0;32mdef\u001b[0m \u001b[0mcomment_generator\u001b[0m\u001b[0;34m(\u001b[0m\u001b[0;34m)\u001b[0m\u001b[0;34m:\u001b[0m\u001b[0;34m\u001b[0m\u001b[0;34m\u001b[0m\u001b[0m\n\u001b[0;32m----> 2\u001b[0;31m     \u001b[0;32mfor\u001b[0m \u001b[0mi\u001b[0m\u001b[0;34m,\u001b[0m \u001b[0mrow\u001b[0m \u001b[0;32min\u001b[0m \u001b[0mblm_comments\u001b[0m\u001b[0;34m.\u001b[0m\u001b[0miterrows\u001b[0m\u001b[0;34m(\u001b[0m\u001b[0;34m)\u001b[0m\u001b[0;34m:\u001b[0m\u001b[0;34m\u001b[0m\u001b[0;34m\u001b[0m\u001b[0m\n\u001b[0m\u001b[1;32m      3\u001b[0m         \u001b[0;32myield\u001b[0m \u001b[0mrow\u001b[0m\u001b[0;34m[\u001b[0m\u001b[0;34m'subreddit'\u001b[0m\u001b[0;34m]\u001b[0m\u001b[0;34m,\u001b[0m \u001b[0mrow\u001b[0m\u001b[0;34m[\u001b[0m\u001b[0;34m'body'\u001b[0m\u001b[0;34m]\u001b[0m\u001b[0;34m\u001b[0m\u001b[0;34m\u001b[0m\u001b[0m\n\u001b[1;32m      4\u001b[0m \u001b[0;34m\u001b[0m\u001b[0m\n\u001b[1;32m      5\u001b[0m \u001b[0;32mdef\u001b[0m \u001b[0mprint_row\u001b[0m\u001b[0;34m(\u001b[0m\u001b[0mgenerator\u001b[0m\u001b[0;34m)\u001b[0m\u001b[0;34m:\u001b[0m\u001b[0;34m\u001b[0m\u001b[0;34m\u001b[0m\u001b[0m\n",
      "\u001b[0;32m~/workspace/blm_attitudes/.venv/lib/python3.7/site-packages/modin/pandas/dataframe.py\u001b[0m in \u001b[0;36miterrows\u001b[0;34m(self)\u001b[0m\n\u001b[1;32m    932\u001b[0m \u001b[0;34m\u001b[0m\u001b[0m\n\u001b[1;32m    933\u001b[0m         \u001b[0mpartition_iterator\u001b[0m \u001b[0;34m=\u001b[0m \u001b[0mPartitionIterator\u001b[0m\u001b[0;34m(\u001b[0m\u001b[0mself\u001b[0m\u001b[0;34m.\u001b[0m\u001b[0m_query_compiler\u001b[0m\u001b[0;34m,\u001b[0m \u001b[0;36m0\u001b[0m\u001b[0;34m,\u001b[0m \u001b[0miterrow_builder\u001b[0m\u001b[0;34m)\u001b[0m\u001b[0;34m\u001b[0m\u001b[0;34m\u001b[0m\u001b[0m\n\u001b[0;32m--> 934\u001b[0;31m         \u001b[0;32mfor\u001b[0m \u001b[0mv\u001b[0m \u001b[0;32min\u001b[0m \u001b[0mpartition_iterator\u001b[0m\u001b[0;34m:\u001b[0m\u001b[0;34m\u001b[0m\u001b[0;34m\u001b[0m\u001b[0m\n\u001b[0m\u001b[1;32m    935\u001b[0m             \u001b[0;32myield\u001b[0m \u001b[0mv\u001b[0m\u001b[0;34m\u001b[0m\u001b[0;34m\u001b[0m\u001b[0m\n\u001b[1;32m    936\u001b[0m \u001b[0;34m\u001b[0m\u001b[0m\n",
      "\u001b[0;32m~/workspace/blm_attitudes/.venv/lib/python3.7/site-packages/modin/pandas/iterator.py\u001b[0m in \u001b[0;36m__next__\u001b[0;34m(self)\u001b[0m\n\u001b[1;32m     38\u001b[0m \u001b[0;34m\u001b[0m\u001b[0m\n\u001b[1;32m     39\u001b[0m     \u001b[0;32mdef\u001b[0m \u001b[0m__next__\u001b[0m\u001b[0;34m(\u001b[0m\u001b[0mself\u001b[0m\u001b[0;34m)\u001b[0m\u001b[0;34m:\u001b[0m\u001b[0;34m\u001b[0m\u001b[0;34m\u001b[0m\u001b[0m\n\u001b[0;32m---> 40\u001b[0;31m         \u001b[0;32mreturn\u001b[0m \u001b[0mself\u001b[0m\u001b[0;34m.\u001b[0m\u001b[0mnext\u001b[0m\u001b[0;34m(\u001b[0m\u001b[0;34m)\u001b[0m\u001b[0;34m\u001b[0m\u001b[0;34m\u001b[0m\u001b[0m\n\u001b[0m\u001b[1;32m     41\u001b[0m \u001b[0;34m\u001b[0m\u001b[0m\n\u001b[1;32m     42\u001b[0m     \u001b[0;32mdef\u001b[0m \u001b[0mnext\u001b[0m\u001b[0;34m(\u001b[0m\u001b[0mself\u001b[0m\u001b[0;34m)\u001b[0m\u001b[0;34m:\u001b[0m\u001b[0;34m\u001b[0m\u001b[0;34m\u001b[0m\u001b[0m\n",
      "\u001b[0;32m~/workspace/blm_attitudes/.venv/lib/python3.7/site-packages/modin/pandas/iterator.py\u001b[0m in \u001b[0;36mnext\u001b[0;34m(self)\u001b[0m\n\u001b[1;32m     45\u001b[0m             \u001b[0mdf\u001b[0m \u001b[0;34m=\u001b[0m \u001b[0mself\u001b[0m\u001b[0;34m.\u001b[0m\u001b[0mquery_compiler\u001b[0m\u001b[0;34m.\u001b[0m\u001b[0mgetitem_column_array\u001b[0m\u001b[0;34m(\u001b[0m\u001b[0;34m[\u001b[0m\u001b[0mkey\u001b[0m\u001b[0;34m]\u001b[0m\u001b[0;34m)\u001b[0m\u001b[0;34m.\u001b[0m\u001b[0mto_pandas\u001b[0m\u001b[0;34m(\u001b[0m\u001b[0;34m)\u001b[0m\u001b[0;34m\u001b[0m\u001b[0;34m\u001b[0m\u001b[0m\n\u001b[1;32m     46\u001b[0m         \u001b[0;32melse\u001b[0m\u001b[0;34m:\u001b[0m\u001b[0;34m\u001b[0m\u001b[0;34m\u001b[0m\u001b[0m\n\u001b[0;32m---> 47\u001b[0;31m             \u001b[0mdf\u001b[0m \u001b[0;34m=\u001b[0m \u001b[0mself\u001b[0m\u001b[0;34m.\u001b[0m\u001b[0mquery_compiler\u001b[0m\u001b[0;34m.\u001b[0m\u001b[0mgetitem_row_array\u001b[0m\u001b[0;34m(\u001b[0m\u001b[0;34m[\u001b[0m\u001b[0mkey\u001b[0m\u001b[0;34m]\u001b[0m\u001b[0;34m)\u001b[0m\u001b[0;34m.\u001b[0m\u001b[0mto_pandas\u001b[0m\u001b[0;34m(\u001b[0m\u001b[0;34m)\u001b[0m\u001b[0;34m\u001b[0m\u001b[0;34m\u001b[0m\u001b[0m\n\u001b[0m\u001b[1;32m     48\u001b[0m         \u001b[0;32mreturn\u001b[0m \u001b[0mnext\u001b[0m\u001b[0;34m(\u001b[0m\u001b[0mself\u001b[0m\u001b[0;34m.\u001b[0m\u001b[0mfunc\u001b[0m\u001b[0;34m(\u001b[0m\u001b[0mdf\u001b[0m\u001b[0;34m)\u001b[0m\u001b[0;34m)\u001b[0m\u001b[0;34m\u001b[0m\u001b[0;34m\u001b[0m\u001b[0m\n",
      "\u001b[0;32m~/workspace/blm_attitudes/.venv/lib/python3.7/site-packages/modin/backends/pandas/query_compiler.py\u001b[0m in \u001b[0;36mto_pandas\u001b[0;34m(self)\u001b[0m\n\u001b[1;32m     87\u001b[0m \u001b[0;34m\u001b[0m\u001b[0m\n\u001b[1;32m     88\u001b[0m     \u001b[0;32mdef\u001b[0m \u001b[0mto_pandas\u001b[0m\u001b[0;34m(\u001b[0m\u001b[0mself\u001b[0m\u001b[0;34m)\u001b[0m\u001b[0;34m:\u001b[0m\u001b[0;34m\u001b[0m\u001b[0;34m\u001b[0m\u001b[0m\n\u001b[0;32m---> 89\u001b[0;31m         \u001b[0;32mreturn\u001b[0m \u001b[0mself\u001b[0m\u001b[0;34m.\u001b[0m\u001b[0m_modin_frame\u001b[0m\u001b[0;34m.\u001b[0m\u001b[0mto_pandas\u001b[0m\u001b[0;34m(\u001b[0m\u001b[0;34m)\u001b[0m\u001b[0;34m\u001b[0m\u001b[0;34m\u001b[0m\u001b[0m\n\u001b[0m\u001b[1;32m     90\u001b[0m \u001b[0;34m\u001b[0m\u001b[0m\n\u001b[1;32m     91\u001b[0m     \u001b[0;34m@\u001b[0m\u001b[0mclassmethod\u001b[0m\u001b[0;34m\u001b[0m\u001b[0;34m\u001b[0m\u001b[0m\n",
      "\u001b[0;32m~/workspace/blm_attitudes/.venv/lib/python3.7/site-packages/modin/engines/base/frame/data.py\u001b[0m in \u001b[0;36mto_pandas\u001b[0;34m(self)\u001b[0m\n\u001b[1;32m   1234\u001b[0m             \u001b[0mPandas\u001b[0m \u001b[0mDataFrame\u001b[0m\u001b[0;34m.\u001b[0m\u001b[0;34m\u001b[0m\u001b[0;34m\u001b[0m\u001b[0m\n\u001b[1;32m   1235\u001b[0m         \"\"\"\n\u001b[0;32m-> 1236\u001b[0;31m         \u001b[0mdf\u001b[0m \u001b[0;34m=\u001b[0m \u001b[0mself\u001b[0m\u001b[0;34m.\u001b[0m\u001b[0m_frame_mgr_cls\u001b[0m\u001b[0;34m.\u001b[0m\u001b[0mto_pandas\u001b[0m\u001b[0;34m(\u001b[0m\u001b[0mself\u001b[0m\u001b[0;34m.\u001b[0m\u001b[0m_partitions\u001b[0m\u001b[0;34m)\u001b[0m\u001b[0;34m\u001b[0m\u001b[0;34m\u001b[0m\u001b[0m\n\u001b[0m\u001b[1;32m   1237\u001b[0m         \u001b[0;32mif\u001b[0m \u001b[0mdf\u001b[0m\u001b[0;34m.\u001b[0m\u001b[0mempty\u001b[0m\u001b[0;34m:\u001b[0m\u001b[0;34m\u001b[0m\u001b[0;34m\u001b[0m\u001b[0m\n\u001b[1;32m   1238\u001b[0m             \u001b[0;32mif\u001b[0m \u001b[0mlen\u001b[0m\u001b[0;34m(\u001b[0m\u001b[0mself\u001b[0m\u001b[0;34m.\u001b[0m\u001b[0mcolumns\u001b[0m\u001b[0;34m)\u001b[0m \u001b[0;34m!=\u001b[0m \u001b[0;36m0\u001b[0m\u001b[0;34m:\u001b[0m\u001b[0;34m\u001b[0m\u001b[0;34m\u001b[0m\u001b[0m\n",
      "\u001b[0;32m~/workspace/blm_attitudes/.venv/lib/python3.7/site-packages/modin/engines/base/frame/partition_manager.py\u001b[0m in \u001b[0;36mto_pandas\u001b[0;34m(cls, partitions)\u001b[0m\n\u001b[1;32m    312\u001b[0m             \u001b[0mA\u001b[0m \u001b[0mPandas\u001b[0m \u001b[0mDataFrame\u001b[0m\u001b[0;34m\u001b[0m\u001b[0;34m\u001b[0m\u001b[0m\n\u001b[1;32m    313\u001b[0m         \"\"\"\n\u001b[0;32m--> 314\u001b[0;31m         \u001b[0mretrieved_objects\u001b[0m \u001b[0;34m=\u001b[0m \u001b[0;34m[\u001b[0m\u001b[0;34m[\u001b[0m\u001b[0mobj\u001b[0m\u001b[0;34m.\u001b[0m\u001b[0mto_pandas\u001b[0m\u001b[0;34m(\u001b[0m\u001b[0;34m)\u001b[0m \u001b[0;32mfor\u001b[0m \u001b[0mobj\u001b[0m \u001b[0;32min\u001b[0m \u001b[0mpart\u001b[0m\u001b[0;34m]\u001b[0m \u001b[0;32mfor\u001b[0m \u001b[0mpart\u001b[0m \u001b[0;32min\u001b[0m \u001b[0mpartitions\u001b[0m\u001b[0;34m]\u001b[0m\u001b[0;34m\u001b[0m\u001b[0;34m\u001b[0m\u001b[0m\n\u001b[0m\u001b[1;32m    315\u001b[0m         if all(\n\u001b[1;32m    316\u001b[0m             \u001b[0misinstance\u001b[0m\u001b[0;34m(\u001b[0m\u001b[0mpart\u001b[0m\u001b[0;34m,\u001b[0m \u001b[0mpandas\u001b[0m\u001b[0;34m.\u001b[0m\u001b[0mSeries\u001b[0m\u001b[0;34m)\u001b[0m \u001b[0;32mfor\u001b[0m \u001b[0mrow\u001b[0m \u001b[0;32min\u001b[0m \u001b[0mretrieved_objects\u001b[0m \u001b[0;32mfor\u001b[0m \u001b[0mpart\u001b[0m \u001b[0;32min\u001b[0m \u001b[0mrow\u001b[0m\u001b[0;34m\u001b[0m\u001b[0;34m\u001b[0m\u001b[0m\n",
      "\u001b[0;32m~/workspace/blm_attitudes/.venv/lib/python3.7/site-packages/modin/engines/base/frame/partition_manager.py\u001b[0m in \u001b[0;36m<listcomp>\u001b[0;34m(.0)\u001b[0m\n\u001b[1;32m    312\u001b[0m             \u001b[0mA\u001b[0m \u001b[0mPandas\u001b[0m \u001b[0mDataFrame\u001b[0m\u001b[0;34m\u001b[0m\u001b[0;34m\u001b[0m\u001b[0m\n\u001b[1;32m    313\u001b[0m         \"\"\"\n\u001b[0;32m--> 314\u001b[0;31m         \u001b[0mretrieved_objects\u001b[0m \u001b[0;34m=\u001b[0m \u001b[0;34m[\u001b[0m\u001b[0;34m[\u001b[0m\u001b[0mobj\u001b[0m\u001b[0;34m.\u001b[0m\u001b[0mto_pandas\u001b[0m\u001b[0;34m(\u001b[0m\u001b[0;34m)\u001b[0m \u001b[0;32mfor\u001b[0m \u001b[0mobj\u001b[0m \u001b[0;32min\u001b[0m \u001b[0mpart\u001b[0m\u001b[0;34m]\u001b[0m \u001b[0;32mfor\u001b[0m \u001b[0mpart\u001b[0m \u001b[0;32min\u001b[0m \u001b[0mpartitions\u001b[0m\u001b[0;34m]\u001b[0m\u001b[0;34m\u001b[0m\u001b[0;34m\u001b[0m\u001b[0m\n\u001b[0m\u001b[1;32m    315\u001b[0m         if all(\n\u001b[1;32m    316\u001b[0m             \u001b[0misinstance\u001b[0m\u001b[0;34m(\u001b[0m\u001b[0mpart\u001b[0m\u001b[0;34m,\u001b[0m \u001b[0mpandas\u001b[0m\u001b[0;34m.\u001b[0m\u001b[0mSeries\u001b[0m\u001b[0;34m)\u001b[0m \u001b[0;32mfor\u001b[0m \u001b[0mrow\u001b[0m \u001b[0;32min\u001b[0m \u001b[0mretrieved_objects\u001b[0m \u001b[0;32mfor\u001b[0m \u001b[0mpart\u001b[0m \u001b[0;32min\u001b[0m \u001b[0mrow\u001b[0m\u001b[0;34m\u001b[0m\u001b[0;34m\u001b[0m\u001b[0m\n",
      "\u001b[0;32m~/workspace/blm_attitudes/.venv/lib/python3.7/site-packages/modin/engines/base/frame/partition_manager.py\u001b[0m in \u001b[0;36m<listcomp>\u001b[0;34m(.0)\u001b[0m\n\u001b[1;32m    312\u001b[0m             \u001b[0mA\u001b[0m \u001b[0mPandas\u001b[0m \u001b[0mDataFrame\u001b[0m\u001b[0;34m\u001b[0m\u001b[0;34m\u001b[0m\u001b[0m\n\u001b[1;32m    313\u001b[0m         \"\"\"\n\u001b[0;32m--> 314\u001b[0;31m         \u001b[0mretrieved_objects\u001b[0m \u001b[0;34m=\u001b[0m \u001b[0;34m[\u001b[0m\u001b[0;34m[\u001b[0m\u001b[0mobj\u001b[0m\u001b[0;34m.\u001b[0m\u001b[0mto_pandas\u001b[0m\u001b[0;34m(\u001b[0m\u001b[0;34m)\u001b[0m \u001b[0;32mfor\u001b[0m \u001b[0mobj\u001b[0m \u001b[0;32min\u001b[0m \u001b[0mpart\u001b[0m\u001b[0;34m]\u001b[0m \u001b[0;32mfor\u001b[0m \u001b[0mpart\u001b[0m \u001b[0;32min\u001b[0m \u001b[0mpartitions\u001b[0m\u001b[0;34m]\u001b[0m\u001b[0;34m\u001b[0m\u001b[0;34m\u001b[0m\u001b[0m\n\u001b[0m\u001b[1;32m    315\u001b[0m         if all(\n\u001b[1;32m    316\u001b[0m             \u001b[0misinstance\u001b[0m\u001b[0;34m(\u001b[0m\u001b[0mpart\u001b[0m\u001b[0;34m,\u001b[0m \u001b[0mpandas\u001b[0m\u001b[0;34m.\u001b[0m\u001b[0mSeries\u001b[0m\u001b[0;34m)\u001b[0m \u001b[0;32mfor\u001b[0m \u001b[0mrow\u001b[0m \u001b[0;32min\u001b[0m \u001b[0mretrieved_objects\u001b[0m \u001b[0;32mfor\u001b[0m \u001b[0mpart\u001b[0m \u001b[0;32min\u001b[0m \u001b[0mrow\u001b[0m\u001b[0;34m\u001b[0m\u001b[0;34m\u001b[0m\u001b[0m\n",
      "\u001b[0;32m~/workspace/blm_attitudes/.venv/lib/python3.7/site-packages/modin/engines/ray/pandas_on_ray/frame/partition.py\u001b[0m in \u001b[0;36mto_pandas\u001b[0;34m(self)\u001b[0m\n\u001b[1;32m     92\u001b[0m             \u001b[0mA\u001b[0m \u001b[0mPandas\u001b[0m \u001b[0mDataFrame\u001b[0m\u001b[0;34m.\u001b[0m\u001b[0;34m\u001b[0m\u001b[0;34m\u001b[0m\u001b[0m\n\u001b[1;32m     93\u001b[0m         \"\"\"\n\u001b[0;32m---> 94\u001b[0;31m         \u001b[0mdataframe\u001b[0m \u001b[0;34m=\u001b[0m \u001b[0mself\u001b[0m\u001b[0;34m.\u001b[0m\u001b[0mget\u001b[0m\u001b[0;34m(\u001b[0m\u001b[0;34m)\u001b[0m\u001b[0;34m\u001b[0m\u001b[0;34m\u001b[0m\u001b[0m\n\u001b[0m\u001b[1;32m     95\u001b[0m         \u001b[0;32massert\u001b[0m \u001b[0mtype\u001b[0m\u001b[0;34m(\u001b[0m\u001b[0mdataframe\u001b[0m\u001b[0;34m)\u001b[0m \u001b[0;32mis\u001b[0m \u001b[0mpandas\u001b[0m\u001b[0;34m.\u001b[0m\u001b[0mDataFrame\u001b[0m \u001b[0;32mor\u001b[0m \u001b[0mtype\u001b[0m\u001b[0;34m(\u001b[0m\u001b[0mdataframe\u001b[0m\u001b[0;34m)\u001b[0m \u001b[0;32mis\u001b[0m \u001b[0mpandas\u001b[0m\u001b[0;34m.\u001b[0m\u001b[0mSeries\u001b[0m\u001b[0;34m\u001b[0m\u001b[0;34m\u001b[0m\u001b[0m\n\u001b[1;32m     96\u001b[0m         \u001b[0;32mreturn\u001b[0m \u001b[0mdataframe\u001b[0m\u001b[0;34m\u001b[0m\u001b[0;34m\u001b[0m\u001b[0m\n",
      "\u001b[0;32m~/workspace/blm_attitudes/.venv/lib/python3.7/site-packages/modin/engines/ray/pandas_on_ray/frame/partition.py\u001b[0m in \u001b[0;36mget\u001b[0;34m(self)\u001b[0m\n\u001b[1;32m     44\u001b[0m             \u001b[0mself\u001b[0m\u001b[0;34m.\u001b[0m\u001b[0mdrain_call_queue\u001b[0m\u001b[0;34m(\u001b[0m\u001b[0;34m)\u001b[0m\u001b[0;34m\u001b[0m\u001b[0;34m\u001b[0m\u001b[0m\n\u001b[1;32m     45\u001b[0m         \u001b[0;32mtry\u001b[0m\u001b[0;34m:\u001b[0m\u001b[0;34m\u001b[0m\u001b[0;34m\u001b[0m\u001b[0m\n\u001b[0;32m---> 46\u001b[0;31m             \u001b[0;32mreturn\u001b[0m \u001b[0mray\u001b[0m\u001b[0;34m.\u001b[0m\u001b[0mget\u001b[0m\u001b[0;34m(\u001b[0m\u001b[0mself\u001b[0m\u001b[0;34m.\u001b[0m\u001b[0moid\u001b[0m\u001b[0;34m)\u001b[0m\u001b[0;34m\u001b[0m\u001b[0;34m\u001b[0m\u001b[0m\n\u001b[0m\u001b[1;32m     47\u001b[0m         \u001b[0;32mexcept\u001b[0m \u001b[0mRayTaskError\u001b[0m \u001b[0;32mas\u001b[0m \u001b[0me\u001b[0m\u001b[0;34m:\u001b[0m\u001b[0;34m\u001b[0m\u001b[0;34m\u001b[0m\u001b[0m\n\u001b[1;32m     48\u001b[0m             \u001b[0mhandle_ray_task_error\u001b[0m\u001b[0;34m(\u001b[0m\u001b[0me\u001b[0m\u001b[0;34m)\u001b[0m\u001b[0;34m\u001b[0m\u001b[0;34m\u001b[0m\u001b[0m\n",
      "\u001b[0;32m~/workspace/blm_attitudes/.venv/lib/python3.7/site-packages/ray/worker.py\u001b[0m in \u001b[0;36mget\u001b[0;34m(object_ids, timeout)\u001b[0m\n\u001b[1;32m   1504\u001b[0m         \u001b[0;32mglobal\u001b[0m \u001b[0mlast_task_error_raise_time\u001b[0m\u001b[0;34m\u001b[0m\u001b[0;34m\u001b[0m\u001b[0m\n\u001b[1;32m   1505\u001b[0m         \u001b[0;31m# TODO(ujvl): Consider how to allow user to retrieve the ready objects.\u001b[0m\u001b[0;34m\u001b[0m\u001b[0;34m\u001b[0m\u001b[0;34m\u001b[0m\u001b[0m\n\u001b[0;32m-> 1506\u001b[0;31m         \u001b[0mvalues\u001b[0m \u001b[0;34m=\u001b[0m \u001b[0mworker\u001b[0m\u001b[0;34m.\u001b[0m\u001b[0mget_objects\u001b[0m\u001b[0;34m(\u001b[0m\u001b[0mobject_ids\u001b[0m\u001b[0;34m,\u001b[0m \u001b[0mtimeout\u001b[0m\u001b[0;34m=\u001b[0m\u001b[0mtimeout\u001b[0m\u001b[0;34m)\u001b[0m\u001b[0;34m\u001b[0m\u001b[0;34m\u001b[0m\u001b[0m\n\u001b[0m\u001b[1;32m   1507\u001b[0m         \u001b[0;32mfor\u001b[0m \u001b[0mi\u001b[0m\u001b[0;34m,\u001b[0m \u001b[0mvalue\u001b[0m \u001b[0;32min\u001b[0m \u001b[0menumerate\u001b[0m\u001b[0;34m(\u001b[0m\u001b[0mvalues\u001b[0m\u001b[0;34m)\u001b[0m\u001b[0;34m:\u001b[0m\u001b[0;34m\u001b[0m\u001b[0;34m\u001b[0m\u001b[0m\n\u001b[1;32m   1508\u001b[0m             \u001b[0;32mif\u001b[0m \u001b[0misinstance\u001b[0m\u001b[0;34m(\u001b[0m\u001b[0mvalue\u001b[0m\u001b[0;34m,\u001b[0m \u001b[0mRayError\u001b[0m\u001b[0;34m)\u001b[0m\u001b[0;34m:\u001b[0m\u001b[0;34m\u001b[0m\u001b[0;34m\u001b[0m\u001b[0m\n",
      "\u001b[0;32m~/workspace/blm_attitudes/.venv/lib/python3.7/site-packages/ray/worker.py\u001b[0m in \u001b[0;36mget_objects\u001b[0;34m(self, object_ids, timeout)\u001b[0m\n\u001b[1;32m    309\u001b[0m         \u001b[0mtimeout_ms\u001b[0m \u001b[0;34m=\u001b[0m \u001b[0mint\u001b[0m\u001b[0;34m(\u001b[0m\u001b[0mtimeout\u001b[0m \u001b[0;34m*\u001b[0m \u001b[0;36m1000\u001b[0m\u001b[0;34m)\u001b[0m \u001b[0;32mif\u001b[0m \u001b[0mtimeout\u001b[0m \u001b[0;32melse\u001b[0m \u001b[0;34m-\u001b[0m\u001b[0;36m1\u001b[0m\u001b[0;34m\u001b[0m\u001b[0;34m\u001b[0m\u001b[0m\n\u001b[1;32m    310\u001b[0m         data_metadata_pairs = self.core_worker.get_objects(\n\u001b[0;32m--> 311\u001b[0;31m             object_ids, self.current_task_id, timeout_ms)\n\u001b[0m\u001b[1;32m    312\u001b[0m         \u001b[0;32mreturn\u001b[0m \u001b[0mself\u001b[0m\u001b[0;34m.\u001b[0m\u001b[0mdeserialize_objects\u001b[0m\u001b[0;34m(\u001b[0m\u001b[0mdata_metadata_pairs\u001b[0m\u001b[0;34m,\u001b[0m \u001b[0mobject_ids\u001b[0m\u001b[0;34m)\u001b[0m\u001b[0;34m\u001b[0m\u001b[0;34m\u001b[0m\u001b[0m\n\u001b[1;32m    313\u001b[0m \u001b[0;34m\u001b[0m\u001b[0m\n",
      "\u001b[0;31mKeyboardInterrupt\u001b[0m: "
     ]
    }
   ],
   "source": [
    "import time\n",
    "for _ in range(200):\n",
    "    print_row(comment_gen)\n",
    "    time.sleep(3)"
   ]
  },
  {
   "cell_type": "code",
   "execution_count": null,
   "metadata": {},
   "outputs": [],
   "source": []
  }
 ],
 "metadata": {
  "kernelspec": {
   "display_name": ".venv",
   "language": "python",
   "name": ".venv"
  },
  "language_info": {
   "codemirror_mode": {
    "name": "ipython",
    "version": 3
   },
   "file_extension": ".py",
   "mimetype": "text/x-python",
   "name": "python",
   "nbconvert_exporter": "python",
   "pygments_lexer": "ipython3",
   "version": "3.7.6"
  }
 },
 "nbformat": 4,
 "nbformat_minor": 4
}
