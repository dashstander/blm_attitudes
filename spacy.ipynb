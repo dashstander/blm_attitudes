{
 "cells": [
  {
   "cell_type": "code",
   "execution_count": 1,
   "metadata": {},
   "outputs": [],
   "source": [
    "import en_core_web_md\n",
    "import modin.pandas as pd\n",
    "import os\n",
    "import re\n",
    "import spacy\n",
    "\n",
    "nlp = en_core_web_md.load()\n",
    "data_dir = '/Users/dashiell/reddit_blm/'\n",
    "def load_data():\n",
    "    return pd.concat(\n",
    "        [pd.read_csv(data_dir + fp) for fp in os.listdir(data_dir)]\n",
    "    )\n",
    "df = load_data()\n",
    "\n",
    "def break_out_links(text):\n",
    "    link_pattern = '\\[(.*?)\\]\\((.*?)\\)'\n",
    "    matches = [m for m in re.finditer(link_pattern, text)]\n",
    "    offset = 0\n",
    "    for m in matches:\n",
    "        text = text[:m.start(0)-offset] + ' ' + m.group(1) + ' ' + m.group(2) + ' ' + text[m.end(0)-offset:]\n",
    "        offset += 1\n",
    "    return text\n",
    "\n",
    "def unescape_chars(text):\n",
    "    ntext = re.sub(r'\\\\\\*', '', text)\n",
    "    ntext = re.sub(r'&gt;', '>', ntext)\n",
    "    ntext = re.sub(r'&lt;', '<', ntext)\n",
    "    ntext = re.sub(r'&amp;', '&', ntext)\n",
    "    ntext = re.sub(r'\\\\~', '~', ntext)\n",
    "    return re.sub(r\"\\\\'\", \"'\", ntext)\n"
   ]
  },
  {
   "cell_type": "code",
   "execution_count": 17,
   "metadata": {},
   "outputs": [],
   "source": [
    "comments = df.body.str.replace('&com;', ',').str.replace('&nl;', '\\n').values"
   ]
  },
  {
   "cell_type": "code",
   "execution_count": 18,
   "metadata": {},
   "outputs": [],
   "source": [
    "test_doc = nlp(comments[0])\n"
   ]
  },
  {
   "cell_type": "code",
   "execution_count": 23,
   "metadata": {},
   "outputs": [],
   "source": [
    "for ent in test_doc.ents:\n",
    "    print(ent.text, ent.start_char, ent.end_char, ent.label_)"
   ]
  },
  {
   "cell_type": "code",
   "execution_count": 24,
   "metadata": {},
   "outputs": [
    {
     "data": {
      "text/plain": [
       "It has nothing to do with drownings voices, it happend because people complained about the sentence is racist and created an alternative and it is a racist sentence, they attack white/latinand use racial slurs against anyone not black. So yes they are extremely racist. And let's for a moment say All Lives Matter is realy a conspiracy to drown voices so why not black lives matter too?"
      ]
     },
     "execution_count": 24,
     "metadata": {},
     "output_type": "execute_result"
    }
   ],
   "source": [
    "test_doc"
   ]
  },
  {
   "cell_type": "code",
   "execution_count": 92,
   "metadata": {},
   "outputs": [
    {
     "data": {
      "text/plain": [
       "'&gt;[Obviously \"all\"\\\\* lives matter. No one said they didn\\'t.](https://i.imgur.com/UyCmhSx.png)\\n\\n[Bernie Sanders said they didn\\'t](https://youtu.be/XzNmcyic74A) when he was asked point blank.\\n\\n&gt;However, data shows that relative to the percentage of the population they represent, \\\\*\\\\*the rate of black American deaths from police shootings is \\\\~2.5-3x that of white Americans deaths\\\\*\\\\*\\n\\nSo what? You act like we have to pick and choose whose lives to save. We can solve this problem for EVERYONE instead of only solving it for one race.'"
      ]
     },
     "execution_count": 92,
     "metadata": {},
     "output_type": "execute_result"
    }
   ],
   "source": [
    "reddit_quote_pattern = re.compile('&gt;(.*)\\\\n\\\\n')\n",
    "test = re.match(reddit_quote_pattern, comments[212])\n",
    "comments[1]"
   ]
  },
  {
   "cell_type": "code",
   "execution_count": 110,
   "metadata": {},
   "outputs": [],
   "source": [
    "m = re.findall('&gt;.*?\\\\n\\\\n', comments[1])"
   ]
  },
  {
   "cell_type": "code",
   "execution_count": 125,
   "metadata": {},
   "outputs": [],
   "source": [
    "x = comments[1]"
   ]
  },
  {
   "cell_type": "code",
   "execution_count": 137,
   "metadata": {},
   "outputs": [
    {
     "name": "stdout",
     "output_type": "stream",
     "text": [
      "4\n",
      "95\n",
      "[Obviously \"all\"\\* lives matter. No one said they didn't.](https://i.imgur.com/UyCmhSx.png)\n",
      "Obviously \"all\"\\* lives matter. No one said they didn't.\n",
      "97\n",
      "160\n",
      "[Bernie Sanders said they didn't](https://youtu.be/XzNmcyic74A)\n",
      "Bernie Sanders said they didn't\n"
     ]
    }
   ],
   "source": [
    "link_pattern = '\\[(.*?)\\]\\((.*?)\\)'\n",
    "for y in re.finditer(link_pattern, x):\n",
    "    print(y.start(0))\n",
    "    print(y.end(0))\n",
    "    print(y.group(0))\n",
    "    print(y.group(1))"
   ]
  },
  {
   "cell_type": "code",
   "execution_count": 139,
   "metadata": {},
   "outputs": [],
   "source": [
    "matches = [y for y in re.finditer(link_pattern, x)]"
   ]
  },
  {
   "cell_type": "code",
   "execution_count": 141,
   "metadata": {},
   "outputs": [],
   "source": [
    "first = matches[0]"
   ]
  },
  {
   "cell_type": "code",
   "execution_count": 143,
   "metadata": {},
   "outputs": [
    {
     "data": {
      "text/plain": [
       "'Obviously \"all\"\\\\* lives matter. No one said they didn\\'t.'"
      ]
     },
     "execution_count": 143,
     "metadata": {},
     "output_type": "execute_result"
    }
   ],
   "source": [
    "first.group(1)"
   ]
  },
  {
   "cell_type": "code",
   "execution_count": 145,
   "metadata": {},
   "outputs": [
    {
     "data": {
      "text/plain": [
       "'&gt; Obviously \"all\"\\\\* lives matter. No one said they didn\\'t. https://i.imgur.com/UyCmhSx.png \\n\\n[Bernie Sanders said they didn\\'t](https://youtu.be/XzNmcyic74A) when he was asked point blank.\\n\\n&gt;However, data shows that relative to the percentage of the population they represent, \\\\*\\\\*the rate of black American deaths from police shootings is \\\\~2.5-3x that of white Americans deaths\\\\*\\\\*\\n\\nSo what? You act like we have to pick and choose whose lives to save. We can solve this problem for EVERYONE instead of only solving it for one race.'"
      ]
     },
     "execution_count": 145,
     "metadata": {},
     "output_type": "execute_result"
    }
   ],
   "source": [
    "x[:first.start(0)] + ' ' + first.group(1) + ' ' + first.group(2) + ' ' + x[first.end(0):]"
   ]
  },
  {
   "cell_type": "code",
   "execution_count": 153,
   "metadata": {},
   "outputs": [
    {
     "data": {
      "text/plain": [
       "'All lives matter, he writes on a sign that he just made using materials he bought from target just hours before while not wearing a mask to protect his grandma'"
      ]
     },
     "execution_count": 153,
     "metadata": {},
     "output_type": "execute_result"
    }
   ],
   "source": [
    "comments[3456]"
   ]
  },
  {
   "cell_type": "code",
   "execution_count": 234,
   "metadata": {},
   "outputs": [],
   "source": [
    "def break_out_links(text):\n",
    "    link_pattern = '\\[(.*?)\\]\\((.*?)\\)'\n",
    "    offset = 0\n",
    "    for m in re.finditer(link_pattern, text):\n",
    "        text = text[:m.start(0)-offset] + ' ' + m.group(1) + ' ' + m.group(2) + ' ' + text[m.end(0)-offset:]\n",
    "        offset += 1\n",
    "    return text\n",
    "\n",
    "\n",
    "def break_out_quotes(text):\n",
    "    quote_pattern = '>(.*?)\\\\n\\\\n'\n",
    "    quote_replacement = ' REDDITQUOTE '\n",
    "    offset = 0\n",
    "    quotes = []\n",
    "    for m in re.finditer(quote_pattern, text):\n",
    "        print(offset)\n",
    "        text = text[:m.start(0)-offset] + quote_replacement + text[m.end(0)-offset:]\n",
    "        quotes.append(m.group(1))\n",
    "        offset += len(m[0]) - len(quote_replacement)\n",
    "    return text, quotes\n",
    "\n",
    "    \n",
    "def unescape_chars(text):\n",
    "    ntext = re.sub(r'\\\\\\*', '', text)\n",
    "    ntext = re.sub(r'&gt;', '>', ntext)\n",
    "    ntext = re.sub(r'&lt;', '<', ntext)\n",
    "    ntext = re.sub(r'&amp;', '&', ntext)\n",
    "    ntext = re.sub(r'\\\\~', '~', ntext)\n",
    "    return re.sub(r\"\\\\'\", \"'\", ntext)"
   ]
  },
  {
   "cell_type": "code",
   "execution_count": 235,
   "metadata": {},
   "outputs": [],
   "source": [
    "x = comments[1]"
   ]
  },
  {
   "cell_type": "code",
   "execution_count": 236,
   "metadata": {},
   "outputs": [
    {
     "name": "stdout",
     "output_type": "stream",
     "text": [
      "0\n",
      "78\n"
     ]
    },
    {
     "data": {
      "text/plain": [
       "(\" REDDITQUOTE  Bernie Sanders said they didn't https://youtu.be/XzNmcyic74A  when he was asked point blank.\\n\\n REDDITQUOTE So what? You act like we have to pick and choose whose lives to save. We can solve this problem for EVERYONE instead of only solving it for one race.\",\n",
       " [' Obviously \"all\" lives matter. No one said they didn\\'t. https://i.imgur.com/UyCmhSx.png ',\n",
       "  'However, data shows that relative to the percentage of the population they represent, the rate of black American deaths from police shootings is ~2.5-3x that of white Americans deaths'])"
      ]
     },
     "execution_count": 236,
     "metadata": {},
     "output_type": "execute_result"
    }
   ],
   "source": [
    "break_out_quotes(break_out_links(unescape_chars(x)))"
   ]
  },
  {
   "cell_type": "code",
   "execution_count": 173,
   "metadata": {},
   "outputs": [
    {
     "data": {
      "text/plain": [
       "'&gt; Obviously \"all\"\\\\* lives matter. No one said they didn\\'t. https://i.imgur.com/UyCmhSx.png \\n\\n Bernie Sanders said they didn\\'t https://youtu.be/XzNmcyic74A  when he was asked point blank.\\n\\n&gt;However, data shows that relative to the percentage of the population they represent, \\\\*\\\\*the rate of black American deaths from police shootings is \\\\~2.5-3x that of white Americans deaths\\\\*\\\\*\\n\\nSo what? You act like we have to pick and choose whose lives to save. We can solve this problem for EVERYONE instead of only solving it for one race.'"
      ]
     },
     "execution_count": 173,
     "metadata": {},
     "output_type": "execute_result"
    }
   ],
   "source": [
    "break_out_links(x)"
   ]
  },
  {
   "cell_type": "code",
   "execution_count": null,
   "metadata": {},
   "outputs": [],
   "source": []
  }
 ],
 "metadata": {
  "kernelspec": {
   "display_name": ".venv",
   "language": "python",
   "name": ".venv"
  },
  "language_info": {
   "codemirror_mode": {
    "name": "ipython",
    "version": 3
   },
   "file_extension": ".py",
   "mimetype": "text/x-python",
   "name": "python",
   "nbconvert_exporter": "python",
   "pygments_lexer": "ipython3",
   "version": "3.7.6"
  }
 },
 "nbformat": 4,
 "nbformat_minor": 4
}
